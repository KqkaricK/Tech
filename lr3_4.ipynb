{
  "cells": [
    {
      "cell_type": "markdown",
      "metadata": {
        "id": "view-in-github",
        "colab_type": "text"
      },
      "source": [
        "<a href=\"https://colab.research.google.com/github/KqkaricK/Tech/blob/main/lr3_4.ipynb\" target=\"_parent\"><img src=\"https://colab.research.google.com/assets/colab-badge.svg\" alt=\"Open In Colab\"/></a>"
      ]
    },
    {
      "cell_type": "code",
      "execution_count": null,
      "metadata": {
        "id": "1iE2XggRAxj4"
      },
      "outputs": [],
      "source": [
        "# ваш код\n",
        "import os\n",
        "\n",
        "import pandas as pd\n",
        "import numpy as np\n",
        "\n",
        "from scipy import stats\n",
        "\n",
        "# from sklearn.datasets import load_boston\n",
        "from sklearn.model_selection import train_test_split, KFold, StratifiedKFold, GridSearchCV, RandomizedSearchCV\n",
        "from sklearn.linear_model import LinearRegression, Ridge, Lasso, ElasticNet, LogisticRegression\n",
        "from sklearn.metrics import mean_absolute_error, mean_squared_error, r2_score, mean_squared_log_error, roc_curve\n",
        "from sklearn.metrics import accuracy_score, roc_auc_score, precision_score, recall_score, f1_score, log_loss\n",
        "from sklearn.preprocessing import StandardScaler, MinMaxScaler, OneHotEncoder\n",
        "\n",
        "import matplotlib.pyplot as plt\n",
        "import seaborn as sns\n",
        "\n",
        "from tqdm import tqdm_notebook\n",
        "\n",
        "import warnings\n",
        "warnings.filterwarnings(\"ignore\")\n",
        "\n",
        "RAND = 10"
      ]
    },
    {
      "cell_type": "markdown",
      "metadata": {
        "id": "CpAFTm0wAxj_"
      },
      "source": [
        "\n",
        "\n",
        "```\n",
        "# Выбран кодовый формат\n",
        "```\n",
        "\n",
        "# Лабораторная работа 3"
      ]
    },
    {
      "cell_type": "markdown",
      "metadata": {
        "id": "iNusMVkuAxkC"
      },
      "source": [
        "Этот набор данных представляет собой запись о 7 распространенных различных видах рыб, продаваемых на рыбном рынке. С помощью этого набора данных можно обучить модель, которая будет предсказывать **вес рыбы**.\n",
        "\n",
        "- Weight - weight of fish in Gram g\n",
        "- Length1 - vertical length in cm\n",
        "- Length2 - diagonal length in cm\n",
        "- Length3 - cross length in cm\n",
        "- Height - height in cm\n",
        "- Width - diagonal width in cm"
      ]
    },
    {
      "cell_type": "markdown",
      "metadata": {
        "id": "L4GzUt5zAxkE"
      },
      "source": [
        "## EDA"
      ]
    },
    {
      "cell_type": "markdown",
      "metadata": {
        "id": "ShsQfXltAxkF"
      },
      "source": [
        "1) Импортируйте файл Fish.csv, записав в переменную **df**"
      ]
    },
    {
      "cell_type": "code",
      "execution_count": null,
      "metadata": {
        "id": "IXWurFO5AxkG"
      },
      "outputs": [],
      "source": [
        "# ваш код\n",
        "df = pd.read_csv('Fish.csv')"
      ]
    },
    {
      "cell_type": "markdown",
      "metadata": {
        "id": "RH_KrFTiAxkI"
      },
      "source": [
        "2) Вывести первые пять строк"
      ]
    },
    {
      "cell_type": "code",
      "execution_count": null,
      "metadata": {
        "id": "H8fD_tVWAxkI",
        "outputId": "8658d3ee-4306-4328-87fd-b5730f2d19d7"
      },
      "outputs": [
        {
          "data": {
            "text/html": [
              "<div>\n",
              "<style scoped>\n",
              "    .dataframe tbody tr th:only-of-type {\n",
              "        vertical-align: middle;\n",
              "    }\n",
              "\n",
              "    .dataframe tbody tr th {\n",
              "        vertical-align: top;\n",
              "    }\n",
              "\n",
              "    .dataframe thead th {\n",
              "        text-align: right;\n",
              "    }\n",
              "</style>\n",
              "<table border=\"1\" class=\"dataframe\">\n",
              "  <thead>\n",
              "    <tr style=\"text-align: right;\">\n",
              "      <th></th>\n",
              "      <th>Species</th>\n",
              "      <th>Weight</th>\n",
              "      <th>Length1</th>\n",
              "      <th>Length2</th>\n",
              "      <th>Length3</th>\n",
              "      <th>Height</th>\n",
              "      <th>Width</th>\n",
              "    </tr>\n",
              "  </thead>\n",
              "  <tbody>\n",
              "    <tr>\n",
              "      <th>0</th>\n",
              "      <td>Bream</td>\n",
              "      <td>242.0</td>\n",
              "      <td>23.2</td>\n",
              "      <td>25.4</td>\n",
              "      <td>30.0</td>\n",
              "      <td>11.5200</td>\n",
              "      <td>4.0200</td>\n",
              "    </tr>\n",
              "    <tr>\n",
              "      <th>1</th>\n",
              "      <td>Bream</td>\n",
              "      <td>290.0</td>\n",
              "      <td>24.0</td>\n",
              "      <td>26.3</td>\n",
              "      <td>31.2</td>\n",
              "      <td>12.4800</td>\n",
              "      <td>4.3056</td>\n",
              "    </tr>\n",
              "    <tr>\n",
              "      <th>2</th>\n",
              "      <td>Bream</td>\n",
              "      <td>340.0</td>\n",
              "      <td>23.9</td>\n",
              "      <td>26.5</td>\n",
              "      <td>31.1</td>\n",
              "      <td>12.3778</td>\n",
              "      <td>4.6961</td>\n",
              "    </tr>\n",
              "    <tr>\n",
              "      <th>3</th>\n",
              "      <td>Bream</td>\n",
              "      <td>363.0</td>\n",
              "      <td>26.3</td>\n",
              "      <td>29.0</td>\n",
              "      <td>33.5</td>\n",
              "      <td>12.7300</td>\n",
              "      <td>4.4555</td>\n",
              "    </tr>\n",
              "    <tr>\n",
              "      <th>4</th>\n",
              "      <td>Bream</td>\n",
              "      <td>430.0</td>\n",
              "      <td>26.5</td>\n",
              "      <td>29.0</td>\n",
              "      <td>34.0</td>\n",
              "      <td>12.4440</td>\n",
              "      <td>5.1340</td>\n",
              "    </tr>\n",
              "  </tbody>\n",
              "</table>\n",
              "</div>"
            ],
            "text/plain": [
              "  Species  Weight  Length1  Length2  Length3   Height   Width\n",
              "0   Bream   242.0     23.2     25.4     30.0  11.5200  4.0200\n",
              "1   Bream   290.0     24.0     26.3     31.2  12.4800  4.3056\n",
              "2   Bream   340.0     23.9     26.5     31.1  12.3778  4.6961\n",
              "3   Bream   363.0     26.3     29.0     33.5  12.7300  4.4555\n",
              "4   Bream   430.0     26.5     29.0     34.0  12.4440  5.1340"
            ]
          },
          "execution_count": 3,
          "metadata": {},
          "output_type": "execute_result"
        }
      ],
      "source": [
        "# ваш код\n",
        "df[:5]"
      ]
    },
    {
      "cell_type": "markdown",
      "metadata": {
        "id": "TAQUFHxZAxkK"
      },
      "source": [
        "3) Выведите размер датасета"
      ]
    },
    {
      "cell_type": "code",
      "execution_count": null,
      "metadata": {
        "id": "uG-oHPdjAxkL",
        "outputId": "aa2279ba-e534-4828-afe6-b9e758033b0f"
      },
      "outputs": [
        {
          "data": {
            "text/plain": [
              "(159, 7)"
            ]
          },
          "execution_count": 4,
          "metadata": {},
          "output_type": "execute_result"
        }
      ],
      "source": [
        "# ваш код\n",
        "df.shape"
      ]
    },
    {
      "cell_type": "markdown",
      "metadata": {
        "id": "5SYLi5E2AxkN"
      },
      "source": [
        "4) Вывести общую информацию о датафрейме при помощи метода info()"
      ]
    },
    {
      "cell_type": "code",
      "execution_count": null,
      "metadata": {
        "id": "5ljm-lp5AxkO",
        "outputId": "3c32d673-3fa9-4da9-97be-095a1ec018b6"
      },
      "outputs": [
        {
          "name": "stdout",
          "output_type": "stream",
          "text": [
            "<class 'pandas.core.frame.DataFrame'>\n",
            "RangeIndex: 159 entries, 0 to 158\n",
            "Data columns (total 7 columns):\n",
            " #   Column   Non-Null Count  Dtype  \n",
            "---  ------   --------------  -----  \n",
            " 0   Species  159 non-null    object \n",
            " 1   Weight   159 non-null    float64\n",
            " 2   Length1  159 non-null    float64\n",
            " 3   Length2  159 non-null    float64\n",
            " 4   Length3  159 non-null    float64\n",
            " 5   Height   159 non-null    float64\n",
            " 6   Width    159 non-null    float64\n",
            "dtypes: float64(6), object(1)\n",
            "memory usage: 8.8+ KB\n"
          ]
        }
      ],
      "source": [
        "# ваш код\n",
        "df.info()"
      ]
    },
    {
      "cell_type": "markdown",
      "metadata": {
        "id": "0YD1rm7PAxkP"
      },
      "source": [
        "5) Вывести основные описательные статистики для числовых и категориальных признаков"
      ]
    },
    {
      "cell_type": "code",
      "execution_count": null,
      "metadata": {
        "id": "d3wsv30wAxkP",
        "outputId": "9e007533-7671-49c8-ede4-b583932b5395"
      },
      "outputs": [
        {
          "data": {
            "text/html": [
              "<div>\n",
              "<style scoped>\n",
              "    .dataframe tbody tr th:only-of-type {\n",
              "        vertical-align: middle;\n",
              "    }\n",
              "\n",
              "    .dataframe tbody tr th {\n",
              "        vertical-align: top;\n",
              "    }\n",
              "\n",
              "    .dataframe thead th {\n",
              "        text-align: right;\n",
              "    }\n",
              "</style>\n",
              "<table border=\"1\" class=\"dataframe\">\n",
              "  <thead>\n",
              "    <tr style=\"text-align: right;\">\n",
              "      <th></th>\n",
              "      <th>Weight</th>\n",
              "      <th>Length1</th>\n",
              "      <th>Length2</th>\n",
              "      <th>Length3</th>\n",
              "      <th>Height</th>\n",
              "      <th>Width</th>\n",
              "    </tr>\n",
              "  </thead>\n",
              "  <tbody>\n",
              "    <tr>\n",
              "      <th>count</th>\n",
              "      <td>159.000000</td>\n",
              "      <td>159.000000</td>\n",
              "      <td>159.000000</td>\n",
              "      <td>159.000000</td>\n",
              "      <td>159.000000</td>\n",
              "      <td>159.000000</td>\n",
              "    </tr>\n",
              "    <tr>\n",
              "      <th>mean</th>\n",
              "      <td>398.326415</td>\n",
              "      <td>26.247170</td>\n",
              "      <td>28.415723</td>\n",
              "      <td>31.227044</td>\n",
              "      <td>8.970994</td>\n",
              "      <td>4.417486</td>\n",
              "    </tr>\n",
              "    <tr>\n",
              "      <th>std</th>\n",
              "      <td>357.978317</td>\n",
              "      <td>9.996441</td>\n",
              "      <td>10.716328</td>\n",
              "      <td>11.610246</td>\n",
              "      <td>4.286208</td>\n",
              "      <td>1.685804</td>\n",
              "    </tr>\n",
              "    <tr>\n",
              "      <th>min</th>\n",
              "      <td>0.000000</td>\n",
              "      <td>7.500000</td>\n",
              "      <td>8.400000</td>\n",
              "      <td>8.800000</td>\n",
              "      <td>1.728400</td>\n",
              "      <td>1.047600</td>\n",
              "    </tr>\n",
              "    <tr>\n",
              "      <th>25%</th>\n",
              "      <td>120.000000</td>\n",
              "      <td>19.050000</td>\n",
              "      <td>21.000000</td>\n",
              "      <td>23.150000</td>\n",
              "      <td>5.944800</td>\n",
              "      <td>3.385650</td>\n",
              "    </tr>\n",
              "    <tr>\n",
              "      <th>50%</th>\n",
              "      <td>273.000000</td>\n",
              "      <td>25.200000</td>\n",
              "      <td>27.300000</td>\n",
              "      <td>29.400000</td>\n",
              "      <td>7.786000</td>\n",
              "      <td>4.248500</td>\n",
              "    </tr>\n",
              "    <tr>\n",
              "      <th>75%</th>\n",
              "      <td>650.000000</td>\n",
              "      <td>32.700000</td>\n",
              "      <td>35.500000</td>\n",
              "      <td>39.650000</td>\n",
              "      <td>12.365900</td>\n",
              "      <td>5.584500</td>\n",
              "    </tr>\n",
              "    <tr>\n",
              "      <th>max</th>\n",
              "      <td>1650.000000</td>\n",
              "      <td>59.000000</td>\n",
              "      <td>63.400000</td>\n",
              "      <td>68.000000</td>\n",
              "      <td>18.957000</td>\n",
              "      <td>8.142000</td>\n",
              "    </tr>\n",
              "  </tbody>\n",
              "</table>\n",
              "</div>"
            ],
            "text/plain": [
              "            Weight     Length1     Length2     Length3      Height       Width\n",
              "count   159.000000  159.000000  159.000000  159.000000  159.000000  159.000000\n",
              "mean    398.326415   26.247170   28.415723   31.227044    8.970994    4.417486\n",
              "std     357.978317    9.996441   10.716328   11.610246    4.286208    1.685804\n",
              "min       0.000000    7.500000    8.400000    8.800000    1.728400    1.047600\n",
              "25%     120.000000   19.050000   21.000000   23.150000    5.944800    3.385650\n",
              "50%     273.000000   25.200000   27.300000   29.400000    7.786000    4.248500\n",
              "75%     650.000000   32.700000   35.500000   39.650000   12.365900    5.584500\n",
              "max    1650.000000   59.000000   63.400000   68.000000   18.957000    8.142000"
            ]
          },
          "execution_count": 6,
          "metadata": {},
          "output_type": "execute_result"
        }
      ],
      "source": [
        "# ваш код\n",
        "df.describe()"
      ]
    },
    {
      "cell_type": "markdown",
      "metadata": {
        "id": "zRdbDRIFAxkQ"
      },
      "source": [
        "6) Постройте тепловую карту для оценки **корреляции признаков**, что можно сказать на основании графика?"
      ]
    },
    {
      "cell_type": "code",
      "execution_count": null,
      "metadata": {
        "id": "PwWbcu08AxkQ",
        "outputId": "592c806a-dba3-465f-c7f1-ff1be9b7b38f"
      },
      "outputs": [
        {
          "data": {
            "image/png": "[encoded data removed]",
            "text/plain": [
              "<Figure size 640x480 with 2 Axes>"
            ]
          },
          "metadata": {},
          "output_type": "display_data"
        }
      ],
      "source": [
        "# ваш код\n",
        "sns.heatmap(df.corr(numeric_only=True), annot=True);"
      ]
    },
    {
      "cell_type": "markdown",
      "metadata": {
        "id": "lRJrLb54STxg"
      },
      "source": [
        "Weight имеет высокую положительную корреляцию с Length1, Length2, Length3 и Height. Это означает, что рыбы с большей длиной и высотой, как правило, тяжелее."
      ]
    },
    {
      "cell_type": "markdown",
      "metadata": {
        "id": "Rahu7-JUAxkR"
      },
      "source": [
        "7) Удалите скоррелированные числовые признаки, где корреляция больше 0.9, при помощи кода ниже, где:\n",
        "- df - исходный датасет\n",
        "- to_drop - колонки, которые необходимо удалить\n",
        "\n",
        "**Результат запишите в переменную df_clean**, переменную df в данном случае оставьте без изменений"
      ]
    },
    {
      "cell_type": "code",
      "execution_count": null,
      "metadata": {
        "id": "KEcbe7OxAxkS",
        "outputId": "ad261b7a-a1fe-48e8-e826-ee0adbb80eda"
      },
      "outputs": [
        {
          "data": {
            "text/html": [
              "<div>\n",
              "<style scoped>\n",
              "    .dataframe tbody tr th:only-of-type {\n",
              "        vertical-align: middle;\n",
              "    }\n",
              "\n",
              "    .dataframe tbody tr th {\n",
              "        vertical-align: top;\n",
              "    }\n",
              "\n",
              "    .dataframe thead th {\n",
              "        text-align: right;\n",
              "    }\n",
              "</style>\n",
              "<table border=\"1\" class=\"dataframe\">\n",
              "  <thead>\n",
              "    <tr style=\"text-align: right;\">\n",
              "      <th></th>\n",
              "      <th>Species</th>\n",
              "      <th>Weight</th>\n",
              "      <th>Length1</th>\n",
              "      <th>Height</th>\n",
              "      <th>Width</th>\n",
              "    </tr>\n",
              "  </thead>\n",
              "  <tbody>\n",
              "    <tr>\n",
              "      <th>0</th>\n",
              "      <td>Bream</td>\n",
              "      <td>242.0</td>\n",
              "      <td>23.2</td>\n",
              "      <td>11.5200</td>\n",
              "      <td>4.0200</td>\n",
              "    </tr>\n",
              "    <tr>\n",
              "      <th>1</th>\n",
              "      <td>Bream</td>\n",
              "      <td>290.0</td>\n",
              "      <td>24.0</td>\n",
              "      <td>12.4800</td>\n",
              "      <td>4.3056</td>\n",
              "    </tr>\n",
              "    <tr>\n",
              "      <th>2</th>\n",
              "      <td>Bream</td>\n",
              "      <td>340.0</td>\n",
              "      <td>23.9</td>\n",
              "      <td>12.3778</td>\n",
              "      <td>4.6961</td>\n",
              "    </tr>\n",
              "    <tr>\n",
              "      <th>3</th>\n",
              "      <td>Bream</td>\n",
              "      <td>363.0</td>\n",
              "      <td>26.3</td>\n",
              "      <td>12.7300</td>\n",
              "      <td>4.4555</td>\n",
              "    </tr>\n",
              "    <tr>\n",
              "      <th>4</th>\n",
              "      <td>Bream</td>\n",
              "      <td>430.0</td>\n",
              "      <td>26.5</td>\n",
              "      <td>12.4440</td>\n",
              "      <td>5.1340</td>\n",
              "    </tr>\n",
              "  </tbody>\n",
              "</table>\n",
              "</div>"
            ],
            "text/plain": [
              "  Species  Weight  Length1   Height   Width\n",
              "0   Bream   242.0     23.2  11.5200  4.0200\n",
              "1   Bream   290.0     24.0  12.4800  4.3056\n",
              "2   Bream   340.0     23.9  12.3778  4.6961\n",
              "3   Bream   363.0     26.3  12.7300  4.4555\n",
              "4   Bream   430.0     26.5  12.4440  5.1340"
            ]
          },
          "execution_count": 8,
          "metadata": {},
          "output_type": "execute_result"
        }
      ],
      "source": [
        "cor_matrix = df.drop(['Weight','Species'], axis=1).corr().abs()\n",
        "upper_tri = cor_matrix.where(\n",
        "    np.triu(np.ones(cor_matrix.shape), k=1).astype(bool))\n",
        "to_drop = [\n",
        "    column for column in upper_tri.columns if any(upper_tri[column] > 0.9)\n",
        "]\n",
        "df_clean = df.drop(columns=to_drop)\n",
        "df_clean.head()"
      ]
    },
    {
      "cell_type": "markdown",
      "metadata": {
        "id": "xnrsulb8AxkV"
      },
      "source": [
        "8) Проанализируйте **целевую переменную Weight в df_clean**, что вы можете сказать о распределении? Нормально ли оно? проверьте при помощи стат метода"
      ]
    },
    {
      "cell_type": "code",
      "execution_count": null,
      "metadata": {
        "id": "2TfSJDxqAxkV",
        "outputId": "33ff9d4a-eef5-4b8a-b6af-eafb34629fbc"
      },
      "outputs": [
        {
          "data": {
            "image/png": "[encoded data removed]",
            "text/plain": [
              "<Figure size 640x480 with 1 Axes>"
            ]
          },
          "metadata": {},
          "output_type": "display_data"
        },
        {
          "name": "stdout",
          "output_type": "stream",
          "text": [
            "ShapiroResult(statistic=0.8834666866461098, pvalue=7.605950002031309e-10)\n",
            "Распределение не нормальное\n"
          ]
        }
      ],
      "source": [
        "# ваш код\n",
        "sns.histplot(df_clean['Weight'], kde=True)\n",
        "plt.show()\n",
        "test_shapiro = stats.shapiro(df_clean['Weight'])\n",
        "print(test_shapiro)\n",
        "if test_shapiro.pvalue < 0.05:\n",
        "    print('Распределение не нормальное')\n",
        "else:\n",
        "    print('Распределение нормальное')\n"
      ]
    },
    {
      "cell_type": "markdown",
      "metadata": {
        "id": "8FTpsJKGAxkW"
      },
      "source": [
        "9) Если распределение не нормальное, то **прологарифмируйте**  таргет Weight с **добавлением внутри единицы**, **записав значения в новую колонку Weight_log** в переменнной df_clean\n",
        "\n",
        "Проверьте, стало ли распределение нормальным при помощи стат метода.\n",
        "\n",
        "> Если распределение не стало полностью нормальным, то ничего страшного. Для таких целей обычно используют функцию потерь устойчивую к выбросам, но мы возьмем прологарифмированную целевую переменную и представим, что распрееление все-так стало нормальным."
      ]
    },
    {
      "cell_type": "code",
      "execution_count": null,
      "metadata": {
        "id": "i9Vocs6jAxkW",
        "outputId": "9c67d752-50eb-45fb-ba1a-6f8c430dee12"
      },
      "outputs": [
        {
          "data": {
            "image/png": "[encoded data removed]",
            "text/plain": [
              "<Figure size 640x480 with 1 Axes>"
            ]
          },
          "metadata": {},
          "output_type": "display_data"
        },
        {
          "name": "stdout",
          "output_type": "stream",
          "text": [
            "ShapiroResult(statistic=0.904837423884678, pvalue=1.1928050032225794e-08)\n",
            "Распределение не нормальное\n"
          ]
        }
      ],
      "source": [
        "# ваш код\n",
        "df_clean['Weight_log'] = np.log(df_clean['Weight']+1)\n",
        "sns.histplot(df_clean['Weight_log'], kde=True)\n",
        "plt.show()\n",
        "test_shapiro_log = stats.shapiro(df_clean['Weight_log'])\n",
        "print(test_shapiro_log)\n",
        "if test_shapiro.pvalue < 0.05:\n",
        "    print('Распределение не нормальное')\n",
        "else:\n",
        "    print('Распределение нормальное')"
      ]
    },
    {
      "cell_type": "markdown",
      "metadata": {
        "id": "EF1UtcwNAxkX"
      },
      "source": [
        "10) Создайте новую переменную **df_label**, присвойте ей трансформированный датасет df_clean при помощи One-hot кодирования (лучше использовать pandas.get_dummies() для бинаризации)\n",
        "\n",
        "Примените drop_first = True"
      ]
    },
    {
      "cell_type": "code",
      "execution_count": null,
      "metadata": {
        "id": "adnqHslQAxkY",
        "outputId": "6cfca67d-842d-46da-d22d-686d1cbf88e9"
      },
      "outputs": [
        {
          "data": {
            "text/html": [
              "<div>\n",
              "<style scoped>\n",
              "    .dataframe tbody tr th:only-of-type {\n",
              "        vertical-align: middle;\n",
              "    }\n",
              "\n",
              "    .dataframe tbody tr th {\n",
              "        vertical-align: top;\n",
              "    }\n",
              "\n",
              "    .dataframe thead th {\n",
              "        text-align: right;\n",
              "    }\n",
              "</style>\n",
              "<table border=\"1\" class=\"dataframe\">\n",
              "  <thead>\n",
              "    <tr style=\"text-align: right;\">\n",
              "      <th></th>\n",
              "      <th>Weight</th>\n",
              "      <th>Length1</th>\n",
              "      <th>Height</th>\n",
              "      <th>Width</th>\n",
              "      <th>Weight_log</th>\n",
              "      <th>Species_Parkki</th>\n",
              "      <th>Species_Perch</th>\n",
              "      <th>Species_Pike</th>\n",
              "      <th>Species_Roach</th>\n",
              "      <th>Species_Smelt</th>\n",
              "      <th>Species_Whitefish</th>\n",
              "    </tr>\n",
              "  </thead>\n",
              "  <tbody>\n",
              "    <tr>\n",
              "      <th>0</th>\n",
              "      <td>242.0</td>\n",
              "      <td>23.2</td>\n",
              "      <td>11.5200</td>\n",
              "      <td>4.0200</td>\n",
              "      <td>5.493061</td>\n",
              "      <td>False</td>\n",
              "      <td>False</td>\n",
              "      <td>False</td>\n",
              "      <td>False</td>\n",
              "      <td>False</td>\n",
              "      <td>False</td>\n",
              "    </tr>\n",
              "    <tr>\n",
              "      <th>1</th>\n",
              "      <td>290.0</td>\n",
              "      <td>24.0</td>\n",
              "      <td>12.4800</td>\n",
              "      <td>4.3056</td>\n",
              "      <td>5.673323</td>\n",
              "      <td>False</td>\n",
              "      <td>False</td>\n",
              "      <td>False</td>\n",
              "      <td>False</td>\n",
              "      <td>False</td>\n",
              "      <td>False</td>\n",
              "    </tr>\n",
              "    <tr>\n",
              "      <th>2</th>\n",
              "      <td>340.0</td>\n",
              "      <td>23.9</td>\n",
              "      <td>12.3778</td>\n",
              "      <td>4.6961</td>\n",
              "      <td>5.831882</td>\n",
              "      <td>False</td>\n",
              "      <td>False</td>\n",
              "      <td>False</td>\n",
              "      <td>False</td>\n",
              "      <td>False</td>\n",
              "      <td>False</td>\n",
              "    </tr>\n",
              "    <tr>\n",
              "      <th>3</th>\n",
              "      <td>363.0</td>\n",
              "      <td>26.3</td>\n",
              "      <td>12.7300</td>\n",
              "      <td>4.4555</td>\n",
              "      <td>5.897154</td>\n",
              "      <td>False</td>\n",
              "      <td>False</td>\n",
              "      <td>False</td>\n",
              "      <td>False</td>\n",
              "      <td>False</td>\n",
              "      <td>False</td>\n",
              "    </tr>\n",
              "    <tr>\n",
              "      <th>4</th>\n",
              "      <td>430.0</td>\n",
              "      <td>26.5</td>\n",
              "      <td>12.4440</td>\n",
              "      <td>5.1340</td>\n",
              "      <td>6.066108</td>\n",
              "      <td>False</td>\n",
              "      <td>False</td>\n",
              "      <td>False</td>\n",
              "      <td>False</td>\n",
              "      <td>False</td>\n",
              "      <td>False</td>\n",
              "    </tr>\n",
              "  </tbody>\n",
              "</table>\n",
              "</div>"
            ],
            "text/plain": [
              "   Weight  Length1   Height   Width  Weight_log  Species_Parkki  \\\n",
              "0   242.0     23.2  11.5200  4.0200    5.493061           False   \n",
              "1   290.0     24.0  12.4800  4.3056    5.673323           False   \n",
              "2   340.0     23.9  12.3778  4.6961    5.831882           False   \n",
              "3   363.0     26.3  12.7300  4.4555    5.897154           False   \n",
              "4   430.0     26.5  12.4440  5.1340    6.066108           False   \n",
              "\n",
              "   Species_Perch  Species_Pike  Species_Roach  Species_Smelt  \\\n",
              "0          False         False          False          False   \n",
              "1          False         False          False          False   \n",
              "2          False         False          False          False   \n",
              "3          False         False          False          False   \n",
              "4          False         False          False          False   \n",
              "\n",
              "   Species_Whitefish  \n",
              "0              False  \n",
              "1              False  \n",
              "2              False  \n",
              "3              False  \n",
              "4              False  "
            ]
          },
          "execution_count": 11,
          "metadata": {},
          "output_type": "execute_result"
        }
      ],
      "source": [
        "# ваш код\n",
        "df_label = pd.get_dummies(df_clean, drop_first=True)\n",
        "df_label.head()"
      ]
    },
    {
      "cell_type": "markdown",
      "metadata": {
        "id": "JshE0RiDAxkY"
      },
      "source": [
        "## Modeling"
      ]
    },
    {
      "cell_type": "markdown",
      "metadata": {
        "id": "RdriPhgfAxkY"
      },
      "source": [
        "11) Разбиение данных на train/test\n",
        "\n",
        "- Разбейте данные на тренировочные и тестовые test_size=0.25\n",
        "- Установите константу RAND = 10 в самом начале и используйте далее как random_state\n",
        "- **Не забывайте про стандартизацию**\n",
        "- Не забывайте, что нужно для записи в переменную X удалить целевые переменные 'Weight', 'Weight_log'\n",
        "- Если вы логарифмировали y_test, то незабудьте создать к примеру новую переменную y_test_exp (произвести **ПОТЕНЦИОНИРОВАНИЕ**), чтобы правильно анализировать значения метрик\n",
        "\n",
        "> Как сделать потенционирование? При условии, что при логарифмировании добавляли единицу\n",
        "```python\n",
        "y_test_exp = np.exp(y_test) - 1\n",
        "```"
      ]
    },
    {
      "cell_type": "code",
      "execution_count": null,
      "metadata": {
        "id": "_2wATa2FAxkZ"
      },
      "outputs": [],
      "source": [
        "# ваш код\n",
        "X = df_label.drop(columns=['Weight', 'Weight_log'])\n",
        "y = df_label['Weight_log']\n",
        "X_train, X_test, y_train, y_test = train_test_split(X, y, test_size=0.25, random_state=RAND)\n",
        "scaler = StandardScaler()\n",
        "X_train = scaler.fit_transform(X_train)\n",
        "X_test = scaler.transform(X_test)\n",
        "y_test_exp = np.exp(y_test) - 1"
      ]
    },
    {
      "cell_type": "markdown",
      "metadata": {
        "id": "1hWBKa_LAxka"
      },
      "source": [
        "12) Необходимо реализовать алгоритм Linear Regression при помощи метода оптимизации **стохастический градиентный спуск**\n",
        "\n",
        "Необходимо взять пример из лекции, где реализована линейная регрессия без использования sklearn, и немного поменять алгоритм.\n",
        "\n",
        "- Не забываем, что нам нет необходимости суммировать результат по всей выборке! Смотреть формулу из презентации\n",
        "- А также будьте аккуратны при вычитании антиградиента (не будет нормирования на всю длину X)!"
      ]
    },
    {
      "cell_type": "code",
      "execution_count": null,
      "metadata": {
        "id": "nqlLLEZxAxka"
      },
      "outputs": [],
      "source": [
        "# ваш код\n",
        "class SGDLinearRegression:\n",
        "    def __init__(self,\n",
        "                 learning_rate: float = 0.001,\n",
        "                 eps: float = 0.001,\n",
        "                 iters: int = 100):\n",
        "        self.learning_rate = learning_rate\n",
        "        self.eps = eps\n",
        "        self.iters = iters\n",
        "    def mean_squared_error_cost(self, y_true: np.ndarray, y_pred: np.ndarray):\n",
        "        errors = (y_true - y_pred)\n",
        "        return (errors**2).sum() / len(errors)\n",
        "    def net_input(self, X: np.ndarray):\n",
        "        return np.dot(X, self.w_[1:]) + self.w_[0]\n",
        "    def predict(self, X: np.ndarray):\n",
        "        return self.net_input(X)\n",
        "    def fit(self, X: np.ndarray, y: np.ndarray):\n",
        "        np.random.seed(RAND)\n",
        "        self.w_ = np.random.rand(1 + X.shape[1])\n",
        "        self.cost_ = []\n",
        "        for i in tqdm_notebook(range(self.iters)):\n",
        "            w_pred = self.w_.copy()\n",
        "            output = self.net_input(X)\n",
        "            errors = y - output\n",
        "            self.w_[1:] -= self.learning_rate * (-2 / X.shape[0]) * X.T.dot(errors)\n",
        "            self.w_[0] -= self.learning_rate * (-2 / X.shape[0]) * errors.sum()\n",
        "            cost = self.mean_squared_error_cost(y, self.net_input(X))\n",
        "            self.cost_.append(cost)\n",
        "            if np.linalg.norm(self.w_ - w_pred, ord=2) < self.eps:\n",
        "                break"
      ]
    },
    {
      "cell_type": "code",
      "execution_count": null,
      "metadata": {
        "id": "FE0eqK38Axkb"
      },
      "outputs": [],
      "source": [
        "def r2_adjusted(y_true: np.ndarray, y_pred: np.ndarray,\n",
        "                X_test: np.ndarray) -> float:\n",
        "    \"\"\"Коэффициент детерминации (множественная регрессия)\"\"\"\n",
        "    N_objects = len(y_true)\n",
        "    N_features = X_test.shape[1]\n",
        "    r2 = r2_score(y_true, y_pred)\n",
        "    return 1 - (1 - r2) * (N_objects - 1) / (N_objects - N_features - 1)\n",
        "def mpe(y_true: np.ndarray, y_pred: np.ndarray) -> float:\n",
        "    \"\"\"Mean percentage error\"\"\"\n",
        "    return np.mean((y_true - y_pred) / y_true) * 100\n",
        "def mape(y_true: np.ndarray, y_pred: np.ndarray) -> float:\n",
        "    \"\"\"Mean absolute percentage error\"\"\"\n",
        "    return np.mean(np.abs((y_pred - y_true) / y_true)) * 100\n",
        "def wape(y_true: np.ndarray, y_pred: np.ndarray) -> float:\n",
        "    \"\"\"Weighted Absolute Percent Error\"\"\"\n",
        "    return np.sum(np.abs(y_pred - y_true)) / np.sum(y_true) * 100\n",
        "def huber_loss(y_true: np.ndarray, y_pred: np.ndarray, delta: float = 1.345):\n",
        "    \"\"\"Функция ошибки Хьюбера\"\"\"\n",
        "    assert len(y_true) == len(y_pred), 'Разные размеры данных'\n",
        "    huber_sum = 0\n",
        "    for i in range(len(y_true)):\n",
        "        if abs(y_true[i] - y_pred[i]) <= delta:\n",
        "            huber_sum += 0.5 * (y_true[i] - y_pred[i])**2\n",
        "        else:\n",
        "            huber_sum += delta * (abs(y_true[i] - y_pred[i]) - 0.5 * delta)\n",
        "    huber_sum /= len(y_true)\n",
        "    return huber_sum\n",
        "def logcosh(y_true: np.ndarray, y_pred: np.ndarray):\n",
        "    \"\"\"функция ошибки Лог-Кош\"\"\"\n",
        "    return np.sum(np.log(np.cosh(y_true - y_pred)))\n",
        "def rmsle(y_true: np.ndarray, y_pred: np.ndarray) -> np.float64:\n",
        "    \"\"\"\n",
        "    The Root Mean Squared Log Error (RMSLE) metric\n",
        "    Логаритмическая ошибка средней квадратичной ошибки\n",
        "    \"\"\"\n",
        "    try:\n",
        "        return np.sqrt(mean_squared_log_error(y_true, y_pred))\n",
        "    except:\n",
        "        return None\n",
        "def get_metrics(y_test: np.ndarray,\n",
        "                y_pred: np.ndarray,\n",
        "                X_test: np.ndarray,\n",
        "                name: str = None,\n",
        "                delta: float = 1.345):\n",
        "    \"\"\"Генерация таблицы с метриками\"\"\"\n",
        "    df_metrics = pd.DataFrame()\n",
        "    df_metrics['model'] = [name]\n",
        "    df_metrics['MAE'] = mean_absolute_error(y_test, y_pred)\n",
        "    df_metrics['MSE'] = mean_squared_error(y_test, y_pred)\n",
        "    df_metrics['RMSE'] = np.sqrt(mean_squared_error(y_test, y_pred))\n",
        "    df_metrics['RMSLE'] = rmsle(y_test, y_pred)\n",
        "    df_metrics['R2 adjusted'] = r2_adjusted(y_test, y_pred, X_test)\n",
        "    # df_metrics['Huber_loss'] = huber_loss(y_test, y_pred, delta)\n",
        "    # df_metrics['Logcosh'] = logcosh(y_test, y_pred)\n",
        "    df_metrics['MPE_%'] = mpe(y_test, y_pred)\n",
        "    df_metrics['MAPE_%'] = mape(y_test, y_pred)\n",
        "    df_metrics['WAPE_%'] = wape(y_test, y_pred)\n",
        "    return df_metrics"
      ]
    },
    {
      "cell_type": "markdown",
      "metadata": {
        "id": "00TUvhgXAxke"
      },
      "source": [
        "13) Обучите разработанную модель линейной регрессии с использованием следующих значений параметров на train выборке:\n",
        "    \n",
        "- learning_rate=0.001\n",
        "- eps=0.0000001\n",
        "- iters=4000"
      ]
    },
    {
      "cell_type": "code",
      "execution_count": null,
      "metadata": {
        "id": "Dy3PJtadAxkf",
        "outputId": "511d5adc-2ee6-420c-c8e6-43b31a9e4418",
        "colab": {
          "referenced_widgets": [
            "a2e1d50215234af48504e6f5d700f1f3"
          ]
        }
      },
      "outputs": [
        {
          "data": {
            "application/vnd.jupyter.widget-view+json": {
              "model_id": "a2e1d50215234af48504e6f5d700f1f3",
              "version_major": 2,
              "version_minor": 0
            },
            "text/plain": [
              "  0%|          | 0/4000 [00:00<?, ?it/s]"
            ]
          },
          "metadata": {},
          "output_type": "display_data"
        }
      ],
      "source": [
        "model = SGDLinearRegression(learning_rate=0.001, eps=1e-7, iters=4000)\n",
        "model.fit(X_train, y_train)\n",
        "y_pred = model.predict(X_test)\n"
      ]
    },
    {
      "cell_type": "markdown",
      "metadata": {
        "id": "sgIq6chDAxkg"
      },
      "source": [
        "14) Какие результаты по основным метрикам вы получили на test? Что можно сказать про модель?\n",
        "\n",
        "- Не забудьте преобразовать обратно целевую переменную (потенционирование) для анализа метрик (для y_test и y_predict), но **в обучении участвуют прологарифмированные данные**.\n",
        "\n",
        "- На какую метрику **более релевантно смотреть на основании распределения целевой перменной**?\n",
        "- На подобие как и в лекции, сделайте отдельный вывод метрик в DataFrame и запишите **результат в переменную metrics**\n",
        "- Если вы получили большие значения метрик (применимо и далее), проверьте, сделали ли вы потенционирование, а также проверьте сам алгоритм оптимизации внутри LR"
      ]
    },
    {
      "cell_type": "code",
      "execution_count": null,
      "metadata": {
        "id": "qDYwDMmPSTxh",
        "outputId": "4b5939af-261d-49fe-daf5-31bb531c481d"
      },
      "outputs": [
        {
          "data": {
            "text/html": [
              "<div>\n",
              "<style scoped>\n",
              "    .dataframe tbody tr th:only-of-type {\n",
              "        vertical-align: middle;\n",
              "    }\n",
              "\n",
              "    .dataframe tbody tr th {\n",
              "        vertical-align: top;\n",
              "    }\n",
              "\n",
              "    .dataframe thead th {\n",
              "        text-align: right;\n",
              "    }\n",
              "</style>\n",
              "<table border=\"1\" class=\"dataframe\">\n",
              "  <thead>\n",
              "    <tr style=\"text-align: right;\">\n",
              "      <th></th>\n",
              "      <th>model</th>\n",
              "      <th>MAE</th>\n",
              "      <th>MSE</th>\n",
              "      <th>RMSE</th>\n",
              "      <th>RMSLE</th>\n",
              "      <th>R2 adjusted</th>\n",
              "      <th>MPE_%</th>\n",
              "      <th>MAPE_%</th>\n",
              "      <th>WAPE_%</th>\n",
              "    </tr>\n",
              "  </thead>\n",
              "  <tbody>\n",
              "    <tr>\n",
              "      <th>0</th>\n",
              "      <td>SGDLinearRegression</td>\n",
              "      <td>0.162466</td>\n",
              "      <td>0.043661</td>\n",
              "      <td>0.208953</td>\n",
              "      <td>0.036578</td>\n",
              "      <td>0.956129</td>\n",
              "      <td>1.776465</td>\n",
              "      <td>3.370219</td>\n",
              "      <td>3.123112</td>\n",
              "    </tr>\n",
              "  </tbody>\n",
              "</table>\n",
              "</div>"
            ],
            "text/plain": [
              "                 model       MAE       MSE      RMSE     RMSLE  R2 adjusted  \\\n",
              "0  SGDLinearRegression  0.162466  0.043661  0.208953  0.036578     0.956129   \n",
              "\n",
              "      MPE_%    MAPE_%    WAPE_%  \n",
              "0  1.776465  3.370219  3.123112  "
            ]
          },
          "execution_count": 16,
          "metadata": {},
          "output_type": "execute_result"
        }
      ],
      "source": [
        "metrics = get_metrics(y_test, y_pred, X_test, name='SGDLinearRegression')\n",
        "metrics"
      ]
    },
    {
      "cell_type": "markdown",
      "metadata": {
        "id": "k5xiDgeWSTxi"
      },
      "source": [
        "SGDLinearRegression продемонстрировала хорошие результаты по всем основным метрикам\n",
        "\n",
        "Релевантная метрика - RMSLE"
      ]
    },
    {
      "cell_type": "markdown",
      "metadata": {
        "id": "G9qwtKt6Axkh"
      },
      "source": [
        "15) Сформируйте **таблицу DataFrame с расчитанными весами** для каждого из признаков на основании обученного ранее алгоритма:\n",
        "- где первый столбец **feature** - содержатся названия признаков\n",
        "- второй столбец **score** - содержатся значения весов перед соответстввующими признаками"
      ]
    },
    {
      "cell_type": "code",
      "execution_count": null,
      "metadata": {
        "id": "l6yfsTaQAxki",
        "outputId": "84551e51-3faf-434b-82a2-8b6adfeb2514"
      },
      "outputs": [
        {
          "data": {
            "text/html": [
              "<div>\n",
              "<style scoped>\n",
              "    .dataframe tbody tr th:only-of-type {\n",
              "        vertical-align: middle;\n",
              "    }\n",
              "\n",
              "    .dataframe tbody tr th {\n",
              "        vertical-align: top;\n",
              "    }\n",
              "\n",
              "    .dataframe thead th {\n",
              "        text-align: right;\n",
              "    }\n",
              "</style>\n",
              "<table border=\"1\" class=\"dataframe\">\n",
              "  <thead>\n",
              "    <tr style=\"text-align: right;\">\n",
              "      <th></th>\n",
              "      <th>feature</th>\n",
              "      <th>score</th>\n",
              "    </tr>\n",
              "  </thead>\n",
              "  <tbody>\n",
              "    <tr>\n",
              "      <th>0</th>\n",
              "      <td>Intercept</td>\n",
              "      <td>5.451115</td>\n",
              "    </tr>\n",
              "    <tr>\n",
              "      <th>1</th>\n",
              "      <td>Feature_0</td>\n",
              "      <td>0.088117</td>\n",
              "    </tr>\n",
              "    <tr>\n",
              "      <th>2</th>\n",
              "      <td>Feature_1</td>\n",
              "      <td>0.717839</td>\n",
              "    </tr>\n",
              "    <tr>\n",
              "      <th>3</th>\n",
              "      <td>Feature_2</td>\n",
              "      <td>0.540271</td>\n",
              "    </tr>\n",
              "    <tr>\n",
              "      <th>4</th>\n",
              "      <td>Feature_3</td>\n",
              "      <td>0.094908</td>\n",
              "    </tr>\n",
              "    <tr>\n",
              "      <th>5</th>\n",
              "      <td>Feature_4</td>\n",
              "      <td>0.286428</td>\n",
              "    </tr>\n",
              "    <tr>\n",
              "      <th>6</th>\n",
              "      <td>Feature_5</td>\n",
              "      <td>0.405715</td>\n",
              "    </tr>\n",
              "    <tr>\n",
              "      <th>7</th>\n",
              "      <td>Feature_6</td>\n",
              "      <td>0.111262</td>\n",
              "    </tr>\n",
              "    <tr>\n",
              "      <th>8</th>\n",
              "      <td>Feature_7</td>\n",
              "      <td>-0.073811</td>\n",
              "    </tr>\n",
              "    <tr>\n",
              "      <th>9</th>\n",
              "      <td>Feature_8</td>\n",
              "      <td>0.092368</td>\n",
              "    </tr>\n",
              "  </tbody>\n",
              "</table>\n",
              "</div>"
            ],
            "text/plain": [
              "     feature     score\n",
              "0  Intercept  5.451115\n",
              "1  Feature_0  0.088117\n",
              "2  Feature_1  0.717839\n",
              "3  Feature_2  0.540271\n",
              "4  Feature_3  0.094908\n",
              "5  Feature_4  0.286428\n",
              "6  Feature_5  0.405715\n",
              "7  Feature_6  0.111262\n",
              "8  Feature_7 -0.073811\n",
              "9  Feature_8  0.092368"
            ]
          },
          "execution_count": 17,
          "metadata": {},
          "output_type": "execute_result"
        }
      ],
      "source": [
        "# ваш код\n",
        "weights = model.w_\n",
        "feature_names = ['Intercept'] + [f'Feature_{i}' for i in range(X_train.shape[1])]\n",
        "weights_df = pd.DataFrame({\n",
        "    'feature': feature_names,\n",
        "    'score': weights\n",
        "})\n",
        "weights_df"
      ]
    },
    {
      "cell_type": "markdown",
      "metadata": {
        "id": "7Ncp74awAxkj"
      },
      "source": [
        "16) Примените стандартный метод для линейной регресии из **sklearn**, обучите модель на train"
      ]
    },
    {
      "cell_type": "code",
      "execution_count": null,
      "metadata": {
        "id": "4mxv2-pxAxkj"
      },
      "outputs": [],
      "source": [
        "# ваш код\n",
        "sklearn_model = LinearRegression()\n",
        "sklearn_model.fit(X_train, y_train)\n",
        "y_pred = sklearn_model.predict(X_test)\n"
      ]
    },
    {
      "cell_type": "markdown",
      "metadata": {
        "id": "3lVH8rBwAxk1"
      },
      "source": [
        "17) Какие результаты по основным метрикам вы получили на test?\n",
        "\n",
        "- Что можно сказать про модель?\n",
        "- Добавьте значения метрик по результатам работы линейной регрессии из sklearn в общий датасет с метриками **в переменную metrics**"
      ]
    },
    {
      "cell_type": "code",
      "execution_count": null,
      "metadata": {
        "id": "fHwCTgtRAxk2",
        "outputId": "b4d453b6-4d35-4748-883b-19b23be23f15"
      },
      "outputs": [
        {
          "data": {
            "text/html": [
              "<div>\n",
              "<style scoped>\n",
              "    .dataframe tbody tr th:only-of-type {\n",
              "        vertical-align: middle;\n",
              "    }\n",
              "\n",
              "    .dataframe tbody tr th {\n",
              "        vertical-align: top;\n",
              "    }\n",
              "\n",
              "    .dataframe thead th {\n",
              "        text-align: right;\n",
              "    }\n",
              "</style>\n",
              "<table border=\"1\" class=\"dataframe\">\n",
              "  <thead>\n",
              "    <tr style=\"text-align: right;\">\n",
              "      <th></th>\n",
              "      <th>model</th>\n",
              "      <th>MAE</th>\n",
              "      <th>MSE</th>\n",
              "      <th>RMSE</th>\n",
              "      <th>RMSLE</th>\n",
              "      <th>R2 adjusted</th>\n",
              "      <th>MPE_%</th>\n",
              "      <th>MAPE_%</th>\n",
              "      <th>WAPE_%</th>\n",
              "    </tr>\n",
              "  </thead>\n",
              "  <tbody>\n",
              "    <tr>\n",
              "      <th>0</th>\n",
              "      <td>SGDLinearRegression</td>\n",
              "      <td>0.162466</td>\n",
              "      <td>0.043661</td>\n",
              "      <td>0.208953</td>\n",
              "      <td>0.036578</td>\n",
              "      <td>0.956129</td>\n",
              "      <td>1.776465</td>\n",
              "      <td>3.370219</td>\n",
              "      <td>3.123112</td>\n",
              "    </tr>\n",
              "    <tr>\n",
              "      <th>0</th>\n",
              "      <td>LinearRegression</td>\n",
              "      <td>0.148876</td>\n",
              "      <td>0.034692</td>\n",
              "      <td>0.186257</td>\n",
              "      <td>0.033459</td>\n",
              "      <td>0.965141</td>\n",
              "      <td>2.022809</td>\n",
              "      <td>3.120086</td>\n",
              "      <td>2.861875</td>\n",
              "    </tr>\n",
              "  </tbody>\n",
              "</table>\n",
              "</div>"
            ],
            "text/plain": [
              "                 model       MAE       MSE      RMSE     RMSLE  R2 adjusted  \\\n",
              "0  SGDLinearRegression  0.162466  0.043661  0.208953  0.036578     0.956129   \n",
              "0     LinearRegression  0.148876  0.034692  0.186257  0.033459     0.965141   \n",
              "\n",
              "      MPE_%    MAPE_%    WAPE_%  \n",
              "0  1.776465  3.370219  3.123112  \n",
              "0  2.022809  3.120086  2.861875  "
            ]
          },
          "execution_count": 19,
          "metadata": {},
          "output_type": "execute_result"
        }
      ],
      "source": [
        "# ваш код\n",
        "metrics = pd.concat([\n",
        "    metrics,\n",
        "    get_metrics(y_test, y_pred, X_test, name='LinearRegression')\n",
        "])\n",
        "metrics"
      ]
    },
    {
      "cell_type": "markdown",
      "metadata": {
        "id": "zj_MeLCKSTxk"
      },
      "source": [
        "Модель LinearRegression из sklearn показала лучшие результаты по всем основным метрикам по сравнению с SGDLinearRegression."
      ]
    },
    {
      "cell_type": "markdown",
      "metadata": {
        "id": "qEUT4btLAxk3"
      },
      "source": [
        "18) Сформируйте **таблицу DataFrame с расчитанными весами** для каждого из признаков на основании обученного ранее алгоритма:\n",
        "- где первый столбец **feature** - содержатся названия признаков\n",
        "- второй столбец **score** - содержатся значения весов перед соответстввующими признаками"
      ]
    },
    {
      "cell_type": "code",
      "execution_count": null,
      "metadata": {
        "id": "sPJyzl8NAxk3",
        "outputId": "6aff51e5-93b0-4154-9626-49d191e0fcee"
      },
      "outputs": [
        {
          "data": {
            "text/html": [
              "<div>\n",
              "<style scoped>\n",
              "    .dataframe tbody tr th:only-of-type {\n",
              "        vertical-align: middle;\n",
              "    }\n",
              "\n",
              "    .dataframe tbody tr th {\n",
              "        vertical-align: top;\n",
              "    }\n",
              "\n",
              "    .dataframe thead th {\n",
              "        text-align: right;\n",
              "    }\n",
              "</style>\n",
              "<table border=\"1\" class=\"dataframe\">\n",
              "  <thead>\n",
              "    <tr style=\"text-align: right;\">\n",
              "      <th></th>\n",
              "      <th>feature</th>\n",
              "      <th>score</th>\n",
              "    </tr>\n",
              "  </thead>\n",
              "  <tbody>\n",
              "    <tr>\n",
              "      <th>0</th>\n",
              "      <td>Intercept</td>\n",
              "      <td>5.452673</td>\n",
              "    </tr>\n",
              "    <tr>\n",
              "      <th>1</th>\n",
              "      <td>Feature_0</td>\n",
              "      <td>0.635300</td>\n",
              "    </tr>\n",
              "    <tr>\n",
              "      <th>2</th>\n",
              "      <td>Feature_1</td>\n",
              "      <td>0.183698</td>\n",
              "    </tr>\n",
              "    <tr>\n",
              "      <th>3</th>\n",
              "      <td>Feature_2</td>\n",
              "      <td>0.396483</td>\n",
              "    </tr>\n",
              "    <tr>\n",
              "      <th>4</th>\n",
              "      <td>Feature_3</td>\n",
              "      <td>-0.004423</td>\n",
              "    </tr>\n",
              "    <tr>\n",
              "      <th>5</th>\n",
              "      <td>Feature_4</td>\n",
              "      <td>-0.087547</td>\n",
              "    </tr>\n",
              "    <tr>\n",
              "      <th>6</th>\n",
              "      <td>Feature_5</td>\n",
              "      <td>-0.115840</td>\n",
              "    </tr>\n",
              "    <tr>\n",
              "      <th>7</th>\n",
              "      <td>Feature_6</td>\n",
              "      <td>-0.127447</td>\n",
              "    </tr>\n",
              "    <tr>\n",
              "      <th>8</th>\n",
              "      <td>Feature_7</td>\n",
              "      <td>-0.356993</td>\n",
              "    </tr>\n",
              "    <tr>\n",
              "      <th>9</th>\n",
              "      <td>Feature_8</td>\n",
              "      <td>0.005376</td>\n",
              "    </tr>\n",
              "  </tbody>\n",
              "</table>\n",
              "</div>"
            ],
            "text/plain": [
              "     feature     score\n",
              "0  Intercept  5.452673\n",
              "1  Feature_0  0.635300\n",
              "2  Feature_1  0.183698\n",
              "3  Feature_2  0.396483\n",
              "4  Feature_3 -0.004423\n",
              "5  Feature_4 -0.087547\n",
              "6  Feature_5 -0.115840\n",
              "7  Feature_6 -0.127447\n",
              "8  Feature_7 -0.356993\n",
              "9  Feature_8  0.005376"
            ]
          },
          "execution_count": 20,
          "metadata": {},
          "output_type": "execute_result"
        }
      ],
      "source": [
        "# ваш код\n",
        "weights_sklearn = sklearn_model.coef_\n",
        "intercept_sklearn = sklearn_model.intercept_\n",
        "feature_names = [f'Feature_{i}' for i in range(X_train.shape[1])]\n",
        "feature_names = ['Intercept'] + feature_names\n",
        "weights = [intercept_sklearn] + list(weights_sklearn)\n",
        "weights_df = pd.DataFrame({\n",
        "    'feature': feature_names,\n",
        "    'score': weights\n",
        "})\n",
        "weights_df\n"
      ]
    },
    {
      "cell_type": "markdown",
      "metadata": {
        "id": "jPbDuUaLAxk4"
      },
      "source": [
        "# Борьба с переобучением"
      ]
    },
    {
      "cell_type": "markdown",
      "metadata": {
        "id": "uXgI_OBBAxk5"
      },
      "source": [
        "19) Примените Ridge, Lasso и ElasticNet (sklearn.linear_model) регуляризации при alpha=0.001, какие результы для каждой модели вы получили на основании предыдущих метрик?\n",
        "\n",
        "Аналогично добавьте метрики по результатам работы алгоритмов в переменную metrics."
      ]
    },
    {
      "cell_type": "code",
      "execution_count": null,
      "metadata": {
        "id": "tHIpYvfUAxk5",
        "outputId": "e7fd2e3c-d922-43da-a5ae-b01845e358ec"
      },
      "outputs": [
        {
          "data": {
            "text/html": [
              "<div>\n",
              "<style scoped>\n",
              "    .dataframe tbody tr th:only-of-type {\n",
              "        vertical-align: middle;\n",
              "    }\n",
              "\n",
              "    .dataframe tbody tr th {\n",
              "        vertical-align: top;\n",
              "    }\n",
              "\n",
              "    .dataframe thead th {\n",
              "        text-align: right;\n",
              "    }\n",
              "</style>\n",
              "<table border=\"1\" class=\"dataframe\">\n",
              "  <thead>\n",
              "    <tr style=\"text-align: right;\">\n",
              "      <th></th>\n",
              "      <th>model</th>\n",
              "      <th>MAE</th>\n",
              "      <th>MSE</th>\n",
              "      <th>RMSE</th>\n",
              "      <th>RMSLE</th>\n",
              "      <th>R2 adjusted</th>\n",
              "      <th>MPE_%</th>\n",
              "      <th>MAPE_%</th>\n",
              "      <th>WAPE_%</th>\n",
              "    </tr>\n",
              "  </thead>\n",
              "  <tbody>\n",
              "    <tr>\n",
              "      <th>0</th>\n",
              "      <td>SGDLinearRegression</td>\n",
              "      <td>0.162466</td>\n",
              "      <td>0.043661</td>\n",
              "      <td>0.208953</td>\n",
              "      <td>0.036578</td>\n",
              "      <td>0.956129</td>\n",
              "      <td>1.776465</td>\n",
              "      <td>3.370219</td>\n",
              "      <td>3.123112</td>\n",
              "    </tr>\n",
              "    <tr>\n",
              "      <th>0</th>\n",
              "      <td>LinearRegression</td>\n",
              "      <td>0.148876</td>\n",
              "      <td>0.034692</td>\n",
              "      <td>0.186257</td>\n",
              "      <td>0.033459</td>\n",
              "      <td>0.965141</td>\n",
              "      <td>2.022809</td>\n",
              "      <td>3.120086</td>\n",
              "      <td>2.861875</td>\n",
              "    </tr>\n",
              "    <tr>\n",
              "      <th>0</th>\n",
              "      <td>Ridge</td>\n",
              "      <td>0.148872</td>\n",
              "      <td>0.034691</td>\n",
              "      <td>0.186254</td>\n",
              "      <td>0.033459</td>\n",
              "      <td>0.965142</td>\n",
              "      <td>2.022742</td>\n",
              "      <td>3.120014</td>\n",
              "      <td>2.861784</td>\n",
              "    </tr>\n",
              "    <tr>\n",
              "      <th>0</th>\n",
              "      <td>Lasso</td>\n",
              "      <td>0.147289</td>\n",
              "      <td>0.034579</td>\n",
              "      <td>0.185956</td>\n",
              "      <td>0.033511</td>\n",
              "      <td>0.965254</td>\n",
              "      <td>2.028079</td>\n",
              "      <td>3.097264</td>\n",
              "      <td>2.831367</td>\n",
              "    </tr>\n",
              "    <tr>\n",
              "      <th>0</th>\n",
              "      <td>ElasticNet</td>\n",
              "      <td>0.147855</td>\n",
              "      <td>0.034548</td>\n",
              "      <td>0.185872</td>\n",
              "      <td>0.033463</td>\n",
              "      <td>0.965285</td>\n",
              "      <td>2.021250</td>\n",
              "      <td>3.105235</td>\n",
              "      <td>2.842236</td>\n",
              "    </tr>\n",
              "  </tbody>\n",
              "</table>\n",
              "</div>"
            ],
            "text/plain": [
              "                 model       MAE       MSE      RMSE     RMSLE  R2 adjusted  \\\n",
              "0  SGDLinearRegression  0.162466  0.043661  0.208953  0.036578     0.956129   \n",
              "0     LinearRegression  0.148876  0.034692  0.186257  0.033459     0.965141   \n",
              "0                Ridge  0.148872  0.034691  0.186254  0.033459     0.965142   \n",
              "0                Lasso  0.147289  0.034579  0.185956  0.033511     0.965254   \n",
              "0           ElasticNet  0.147855  0.034548  0.185872  0.033463     0.965285   \n",
              "\n",
              "      MPE_%    MAPE_%    WAPE_%  \n",
              "0  1.776465  3.370219  3.123112  \n",
              "0  2.022809  3.120086  2.861875  \n",
              "0  2.022742  3.120014  2.861784  \n",
              "0  2.028079  3.097264  2.831367  \n",
              "0  2.021250  3.105235  2.842236  "
            ]
          },
          "execution_count": 21,
          "metadata": {},
          "output_type": "execute_result"
        }
      ],
      "source": [
        "# ваш код\n",
        "models = [\n",
        "    (\"Ridge\", Ridge(alpha=0.001)),\n",
        "    (\"Lasso\", Lasso(alpha=0.001)),\n",
        "    (\"ElasticNet\", ElasticNet(alpha=0.001))\n",
        "]\n",
        "for model_name, model in models:\n",
        "    model.fit(X_train, y_train)\n",
        "    y_pred = model.predict(X_test)\n",
        "    metrics = pd.concat([\n",
        "    metrics,\n",
        "    get_metrics(y_test, y_pred, X_test, name=model_name)\n",
        "])\n",
        "metrics"
      ]
    },
    {
      "cell_type": "markdown",
      "metadata": {
        "id": "NkuyJ3ymAxk6"
      },
      "source": [
        "20) На основании распределения (даже после преобразования) используйте необходимую метрику или неск метрик, и напишите, какая из моделей была лучше"
      ]
    },
    {
      "cell_type": "markdown",
      "metadata": {
        "id": "DcBWFbJdSTxl"
      },
      "source": [
        "Лучшей моделью можно считать Lasso, так как она показала минимальные ошибки (MAE, MAPE и WAPE) и отличное значение R²."
      ]
    },
    {
      "cell_type": "markdown",
      "metadata": {
        "id": "7BMevMrwAxk7"
      },
      "source": [
        "## Кросс-валидация с Holdout"
      ]
    },
    {
      "cell_type": "markdown",
      "metadata": {
        "id": "phRIMhVwAxk8"
      },
      "source": [
        "21) Обучите **наилучшую выбранную модель** из прошлых заданий при помощи **кросс-валидации KFold** с 3мя фолдами на holdout (пример в лекции).\n",
        "\n",
        "- Брать обученную модель НЕ НУЖНО, необходимо внутри кросс-валидации ЗАНОВО создавать объект экземпляра класса модели с параметрами, которые у нее были\n",
        "- Не забывайте про ранее зафиксированный **random_state**\n",
        "- В качестве метрики возьмите среднюю абсолютную ошибку **mean_absolute_error**\n",
        "- На каждом фолде подсчитать **значение MAE на validation** данных и **вывести**\n",
        "- Не забывать про обратное преобразование целевой переменной из логарифма (**потенционирование**), иначе будут очень большие значения метрик\n",
        "- Выведите по итогу **среднее значение MAE** полученное на всех фолдах"
      ]
    },
    {
      "cell_type": "code",
      "execution_count": null,
      "metadata": {
        "id": "ZcfGbt1rAxk8",
        "outputId": "927c944f-d3e9-40a5-fa33-da130901d179"
      },
      "outputs": [
        {
          "name": "stdout",
          "output_type": "stream",
          "text": [
            "MAE на текущем фолде: 38.12\n",
            "MAE на текущем фолде: 106.33\n",
            "MAE на текущем фолде: 58.74\n",
            "\n",
            "Среднее значение MAE на всех фолдах: 67.73\n"
          ]
        }
      ],
      "source": [
        "# ваш код\n",
        "X = pd.get_dummies(X, drop_first=True)\n",
        "scaler = StandardScaler()\n",
        "X = scaler.fit_transform(X)\n",
        "\n",
        "kf = KFold(n_splits=3, shuffle=True, random_state=RAND)\n",
        "mae_scores = []\n",
        "y_val_all = np.array([])\n",
        "y_val_pred_all = np.array([])\n",
        "\n",
        "for train_index, val_index in kf.split(X):\n",
        "    X_train, X_val = X[train_index], X[val_index]\n",
        "    y_train, y_val = y.iloc[train_index], y.iloc[val_index]\n",
        "\n",
        "    model = Lasso(alpha=0.001, random_state=RAND)\n",
        "    model.fit(X_train, y_train)\n",
        "\n",
        "    y_val_pred = model.predict(X_val)\n",
        "    y_val_true_exp = np.expm1(y_val)\n",
        "    y_val_pred_exp = np.expm1(y_val_pred)\n",
        "\n",
        "    mae = mean_absolute_error(y_val_true_exp, y_val_pred_exp)\n",
        "    mae_scores.append(mae)\n",
        "    print(f\"MAE на текущем фолде: {mae:.2f}\")\n",
        "    y_val_all = np.concatenate([y_val_all, y_val_true_exp])\n",
        "    y_val_pred_all = np.concatenate([y_val_pred_all, y_val_pred_exp])\n",
        "\n",
        "mean_mae = np.mean(mae_scores)\n",
        "print(f\"\\nСреднее значение MAE на всех фолдах: {mean_mae:.2f}\")\n"
      ]
    },
    {
      "cell_type": "markdown",
      "metadata": {
        "id": "h6rtfr1TAxk9"
      },
      "source": [
        "22) Получите **предсказанные значения на Holdout** данных при помощи усреднения значений, полученных на каждом фолде\n",
        "\n",
        "**Сравните** результат MAE на validation (OOF) и на test данных (Holdout)\n",
        "\n",
        "\n",
        "Подсказка:\n",
        "- для получения средних значений на Holdout используйте np.mean(np.column_stack(*), axis=1), если * - имеет тип список, а внутри тип np.array"
      ]
    },
    {
      "cell_type": "code",
      "execution_count": null,
      "metadata": {
        "id": "X3NA-WZHAxk_",
        "outputId": "840bc57f-7160-44fc-b6d8-b258e0ed459e"
      },
      "outputs": [
        {
          "name": "stdout",
          "output_type": "stream",
          "text": [
            "MAE на Holdout данных: 61.15\n",
            "Среднее значение MAE на validation (OOF) данных: 67.73\n"
          ]
        }
      ],
      "source": [
        "# ваш код\n",
        "holdout_predictions = []\n",
        "test_predictions_list = []\n",
        "\n",
        "for train_index, val_index in kf.split(X):\n",
        "    X_train, X_val = X[train_index], X[val_index]\n",
        "    y_train, y_val = y.iloc[train_index], y.iloc[val_index]\n",
        "\n",
        "    model = Lasso(alpha=0.001, random_state=RAND)\n",
        "    model.fit(X_train, y_train)\n",
        "\n",
        "    test_predictions = model.predict(X)\n",
        "    test_predictions_list.append(np.expm1(test_predictions))\n",
        "\n",
        "mean_predictions = np.mean(np.column_stack(test_predictions_list), axis=1)\n",
        "\n",
        "y_true_exp = np.expm1(y)\n",
        "mean_mae_holdout = mean_absolute_error(y_true_exp, mean_predictions)\n",
        "\n",
        "print(f\"MAE на Holdout данных: {mean_mae_holdout:.2f}\")\n",
        "print(f\"Среднее значение MAE на validation (OOF) данных: {np.mean(mae_scores):.2f}\")"
      ]
    },
    {
      "cell_type": "markdown",
      "metadata": {
        "id": "DPJkkkj7AxlB"
      },
      "source": [
        "23) Добавьте в датасет с метриками **metrics** результаты обучения модели с **KFold на Holdout данных**.\n",
        "\n",
        "Где вы получили самые наилучшие результаты?"
      ]
    },
    {
      "cell_type": "code",
      "execution_count": null,
      "metadata": {
        "id": "vo42ewEIAxlB",
        "outputId": "69cfc670-82ef-45a7-d03d-17f6ab1f57e4"
      },
      "outputs": [
        {
          "data": {
            "text/html": [
              "<div>\n",
              "<style scoped>\n",
              "    .dataframe tbody tr th:only-of-type {\n",
              "        vertical-align: middle;\n",
              "    }\n",
              "\n",
              "    .dataframe tbody tr th {\n",
              "        vertical-align: top;\n",
              "    }\n",
              "\n",
              "    .dataframe thead th {\n",
              "        text-align: right;\n",
              "    }\n",
              "</style>\n",
              "<table border=\"1\" class=\"dataframe\">\n",
              "  <thead>\n",
              "    <tr style=\"text-align: right;\">\n",
              "      <th></th>\n",
              "      <th>model</th>\n",
              "      <th>MAE</th>\n",
              "      <th>MSE</th>\n",
              "      <th>RMSE</th>\n",
              "      <th>RMSLE</th>\n",
              "      <th>R2 adjusted</th>\n",
              "      <th>MPE_%</th>\n",
              "      <th>MAPE_%</th>\n",
              "      <th>WAPE_%</th>\n",
              "    </tr>\n",
              "  </thead>\n",
              "  <tbody>\n",
              "    <tr>\n",
              "      <th>0</th>\n",
              "      <td>SGDLinearRegression</td>\n",
              "      <td>0.162466</td>\n",
              "      <td>0.043661</td>\n",
              "      <td>0.208953</td>\n",
              "      <td>0.036578</td>\n",
              "      <td>0.956129</td>\n",
              "      <td>1.776465</td>\n",
              "      <td>3.370219</td>\n",
              "      <td>3.123112</td>\n",
              "    </tr>\n",
              "    <tr>\n",
              "      <th>0</th>\n",
              "      <td>LinearRegression</td>\n",
              "      <td>0.148876</td>\n",
              "      <td>0.034692</td>\n",
              "      <td>0.186257</td>\n",
              "      <td>0.033459</td>\n",
              "      <td>0.965141</td>\n",
              "      <td>2.022809</td>\n",
              "      <td>3.120086</td>\n",
              "      <td>2.861875</td>\n",
              "    </tr>\n",
              "    <tr>\n",
              "      <th>0</th>\n",
              "      <td>Ridge</td>\n",
              "      <td>0.148872</td>\n",
              "      <td>0.034691</td>\n",
              "      <td>0.186254</td>\n",
              "      <td>0.033459</td>\n",
              "      <td>0.965142</td>\n",
              "      <td>2.022742</td>\n",
              "      <td>3.120014</td>\n",
              "      <td>2.861784</td>\n",
              "    </tr>\n",
              "    <tr>\n",
              "      <th>0</th>\n",
              "      <td>Lasso</td>\n",
              "      <td>0.147289</td>\n",
              "      <td>0.034579</td>\n",
              "      <td>0.185956</td>\n",
              "      <td>0.033511</td>\n",
              "      <td>0.965254</td>\n",
              "      <td>2.028079</td>\n",
              "      <td>3.097264</td>\n",
              "      <td>2.831367</td>\n",
              "    </tr>\n",
              "    <tr>\n",
              "      <th>0</th>\n",
              "      <td>ElasticNet</td>\n",
              "      <td>0.147855</td>\n",
              "      <td>0.034548</td>\n",
              "      <td>0.185872</td>\n",
              "      <td>0.033463</td>\n",
              "      <td>0.965285</td>\n",
              "      <td>2.021250</td>\n",
              "      <td>3.105235</td>\n",
              "      <td>2.842236</td>\n",
              "    </tr>\n",
              "    <tr>\n",
              "      <th>0</th>\n",
              "      <td>KFold</td>\n",
              "      <td>67.729992</td>\n",
              "      <td>31733.511176</td>\n",
              "      <td>178.139022</td>\n",
              "      <td>0.457263</td>\n",
              "      <td>0.735750</td>\n",
              "      <td>-inf</td>\n",
              "      <td>inf</td>\n",
              "      <td>17.003641</td>\n",
              "    </tr>\n",
              "  </tbody>\n",
              "</table>\n",
              "</div>"
            ],
            "text/plain": [
              "                 model        MAE           MSE        RMSE     RMSLE  \\\n",
              "0  SGDLinearRegression   0.162466      0.043661    0.208953  0.036578   \n",
              "0     LinearRegression   0.148876      0.034692    0.186257  0.033459   \n",
              "0                Ridge   0.148872      0.034691    0.186254  0.033459   \n",
              "0                Lasso   0.147289      0.034579    0.185956  0.033511   \n",
              "0           ElasticNet   0.147855      0.034548    0.185872  0.033463   \n",
              "0                KFold  67.729992  31733.511176  178.139022  0.457263   \n",
              "\n",
              "   R2 adjusted     MPE_%    MAPE_%     WAPE_%  \n",
              "0     0.956129  1.776465  3.370219   3.123112  \n",
              "0     0.965141  2.022809  3.120086   2.861875  \n",
              "0     0.965142  2.022742  3.120014   2.861784  \n",
              "0     0.965254  2.028079  3.097264   2.831367  \n",
              "0     0.965285  2.021250  3.105235   2.842236  \n",
              "0     0.735750      -inf       inf  17.003641  "
            ]
          },
          "execution_count": 24,
          "metadata": {},
          "output_type": "execute_result"
        }
      ],
      "source": [
        "# ваш код\n",
        "metrics = pd.concat([\n",
        "    metrics,\n",
        "    get_metrics(y_val_all, y_val_pred_all, X_test, name='KFold')\n",
        "])\n",
        "metrics"
      ]
    },
    {
      "cell_type": "markdown",
      "metadata": {
        "id": "M3qbj5gESTxl"
      },
      "source": [
        "Лучшей моделью можно считать Lasso, так как она показала минимальные ошибки (MAE, MAPE и WAPE) и отличное значение R²."
      ]
    },
    {
      "cell_type": "markdown",
      "metadata": {
        "id": "hQUAyDwoAxlC"
      },
      "source": [
        "# Лабораторная работа 4"
      ]
    },
    {
      "cell_type": "markdown",
      "metadata": {
        "id": "_q2SvYs6AxlE"
      },
      "source": [
        "Компания, которая активно занимается Big Data и Data Science, хочет нанять специалистов по анализу данных среди людей, которые успешно проходят ее курсы. Многие люди регистрируются на обучение и компания хочет понимать, кто из этих кандидатов действительно хочет работать в компании после обучения или поиска новой работы, потому что это помогает снизить стоимость и время, а также повысить качество обучения, оптимизировать расписание курсов, понимать портрет кандидата.\n",
        "\n",
        "\n",
        "- enrolle_id - Уникальный идентификатор кандидата\n",
        "- city - Код города\n",
        "- city_ development _index - Индекс развития города (масштабированный)\n",
        "- gender - пол кандидата\n",
        "- relevent_experience - релевантный опыт кандидата\n",
        "- enrolled_university - тип обучения в университете (если был)\n",
        "- education_level - уровень образования кандидата\n",
        "- major_discipline - основная специальность по образованию\n",
        "- experience - общий стаж кандидата в годах\n",
        "- company_size - размер компании в работниках\n",
        "- company_type - тип работодателя\n",
        "- lastnewjob - дельта в годах между предыдущей и текущей работах\n",
        "- training_hours - кол-во завершенных часов обучения\n",
        "- target 0 – Не ищу новую работу\n",
        "- target 1 – Ищу новую работу\n",
        "\n",
        "\n",
        "\n",
        "Спрогнозировать вероятность того, что кандидат будет искать новую работу или будет работать в компании (0 - не ищу новую работу). target - целевая переменная"
      ]
    },
    {
      "cell_type": "markdown",
      "metadata": {
        "id": "mtrjUIPLAxlF"
      },
      "source": [
        "## EDA"
      ]
    },
    {
      "cell_type": "markdown",
      "metadata": {
        "id": "1XL446etAxlG"
      },
      "source": [
        "24) Импортируйте файл aug_train.csv, записав в переменную **df**"
      ]
    },
    {
      "cell_type": "code",
      "execution_count": null,
      "metadata": {
        "id": "az0vZCZ_AxlG"
      },
      "outputs": [],
      "source": [
        "# ваш код\n",
        "df = pd.read_csv('aug_train.csv')"
      ]
    },
    {
      "cell_type": "markdown",
      "metadata": {
        "id": "wyu2gMOJAxlH"
      },
      "source": [
        "25) Вывести первые пять строк"
      ]
    },
    {
      "cell_type": "code",
      "execution_count": null,
      "metadata": {
        "id": "whDnXevCAxlH",
        "outputId": "ec989d93-1847-4eb4-e336-4d5002eee2ea"
      },
      "outputs": [
        {
          "data": {
            "text/html": [
              "<div>\n",
              "<style scoped>\n",
              "    .dataframe tbody tr th:only-of-type {\n",
              "        vertical-align: middle;\n",
              "    }\n",
              "\n",
              "    .dataframe tbody tr th {\n",
              "        vertical-align: top;\n",
              "    }\n",
              "\n",
              "    .dataframe thead th {\n",
              "        text-align: right;\n",
              "    }\n",
              "</style>\n",
              "<table border=\"1\" class=\"dataframe\">\n",
              "  <thead>\n",
              "    <tr style=\"text-align: right;\">\n",
              "      <th></th>\n",
              "      <th>enrollee_id</th>\n",
              "      <th>city</th>\n",
              "      <th>city_development_index</th>\n",
              "      <th>gender</th>\n",
              "      <th>relevent_experience</th>\n",
              "      <th>enrolled_university</th>\n",
              "      <th>education_level</th>\n",
              "      <th>major_discipline</th>\n",
              "      <th>experience</th>\n",
              "      <th>company_size</th>\n",
              "      <th>company_type</th>\n",
              "      <th>last_new_job</th>\n",
              "      <th>training_hours</th>\n",
              "      <th>target</th>\n",
              "    </tr>\n",
              "  </thead>\n",
              "  <tbody>\n",
              "    <tr>\n",
              "      <th>0</th>\n",
              "      <td>8949</td>\n",
              "      <td>city_103</td>\n",
              "      <td>0.920</td>\n",
              "      <td>Male</td>\n",
              "      <td>Has relevent experience</td>\n",
              "      <td>no_enrollment</td>\n",
              "      <td>Graduate</td>\n",
              "      <td>STEM</td>\n",
              "      <td>&gt;20</td>\n",
              "      <td>NaN</td>\n",
              "      <td>NaN</td>\n",
              "      <td>1</td>\n",
              "      <td>36</td>\n",
              "      <td>1.0</td>\n",
              "    </tr>\n",
              "    <tr>\n",
              "      <th>1</th>\n",
              "      <td>29725</td>\n",
              "      <td>city_40</td>\n",
              "      <td>0.776</td>\n",
              "      <td>Male</td>\n",
              "      <td>No relevent experience</td>\n",
              "      <td>no_enrollment</td>\n",
              "      <td>Graduate</td>\n",
              "      <td>STEM</td>\n",
              "      <td>15</td>\n",
              "      <td>50-99</td>\n",
              "      <td>Pvt Ltd</td>\n",
              "      <td>&gt;4</td>\n",
              "      <td>47</td>\n",
              "      <td>0.0</td>\n",
              "    </tr>\n",
              "    <tr>\n",
              "      <th>2</th>\n",
              "      <td>11561</td>\n",
              "      <td>city_21</td>\n",
              "      <td>0.624</td>\n",
              "      <td>NaN</td>\n",
              "      <td>No relevent experience</td>\n",
              "      <td>Full time course</td>\n",
              "      <td>Graduate</td>\n",
              "      <td>STEM</td>\n",
              "      <td>5</td>\n",
              "      <td>NaN</td>\n",
              "      <td>NaN</td>\n",
              "      <td>never</td>\n",
              "      <td>83</td>\n",
              "      <td>0.0</td>\n",
              "    </tr>\n",
              "    <tr>\n",
              "      <th>3</th>\n",
              "      <td>33241</td>\n",
              "      <td>city_115</td>\n",
              "      <td>0.789</td>\n",
              "      <td>NaN</td>\n",
              "      <td>No relevent experience</td>\n",
              "      <td>NaN</td>\n",
              "      <td>Graduate</td>\n",
              "      <td>Business Degree</td>\n",
              "      <td>&lt;1</td>\n",
              "      <td>NaN</td>\n",
              "      <td>Pvt Ltd</td>\n",
              "      <td>never</td>\n",
              "      <td>52</td>\n",
              "      <td>1.0</td>\n",
              "    </tr>\n",
              "    <tr>\n",
              "      <th>4</th>\n",
              "      <td>666</td>\n",
              "      <td>city_162</td>\n",
              "      <td>0.767</td>\n",
              "      <td>Male</td>\n",
              "      <td>Has relevent experience</td>\n",
              "      <td>no_enrollment</td>\n",
              "      <td>Masters</td>\n",
              "      <td>STEM</td>\n",
              "      <td>&gt;20</td>\n",
              "      <td>50-99</td>\n",
              "      <td>Funded Startup</td>\n",
              "      <td>4</td>\n",
              "      <td>8</td>\n",
              "      <td>0.0</td>\n",
              "    </tr>\n",
              "  </tbody>\n",
              "</table>\n",
              "</div>"
            ],
            "text/plain": [
              "   enrollee_id      city  city_development_index gender  \\\n",
              "0         8949  city_103                   0.920   Male   \n",
              "1        29725   city_40                   0.776   Male   \n",
              "2        11561   city_21                   0.624    NaN   \n",
              "3        33241  city_115                   0.789    NaN   \n",
              "4          666  city_162                   0.767   Male   \n",
              "\n",
              "       relevent_experience enrolled_university education_level  \\\n",
              "0  Has relevent experience       no_enrollment        Graduate   \n",
              "1   No relevent experience       no_enrollment        Graduate   \n",
              "2   No relevent experience    Full time course        Graduate   \n",
              "3   No relevent experience                 NaN        Graduate   \n",
              "4  Has relevent experience       no_enrollment         Masters   \n",
              "\n",
              "  major_discipline experience company_size    company_type last_new_job  \\\n",
              "0             STEM        >20          NaN             NaN            1   \n",
              "1             STEM         15        50-99         Pvt Ltd           >4   \n",
              "2             STEM          5          NaN             NaN        never   \n",
              "3  Business Degree         <1          NaN         Pvt Ltd        never   \n",
              "4             STEM        >20        50-99  Funded Startup            4   \n",
              "\n",
              "   training_hours  target  \n",
              "0              36     1.0  \n",
              "1              47     0.0  \n",
              "2              83     0.0  \n",
              "3              52     1.0  \n",
              "4               8     0.0  "
            ]
          },
          "execution_count": 26,
          "metadata": {},
          "output_type": "execute_result"
        }
      ],
      "source": [
        "# ваш код\n",
        "df[:5]"
      ]
    },
    {
      "cell_type": "markdown",
      "metadata": {
        "id": "yYIzqmY9AxlJ"
      },
      "source": [
        "26) Выведите размер датасета"
      ]
    },
    {
      "cell_type": "code",
      "execution_count": null,
      "metadata": {
        "id": "n5sJIY8dAxlJ",
        "outputId": "b7910cbb-2c8c-47a7-8352-37dc754c9ffe"
      },
      "outputs": [
        {
          "data": {
            "text/plain": [
              "(19158, 14)"
            ]
          },
          "execution_count": 27,
          "metadata": {},
          "output_type": "execute_result"
        }
      ],
      "source": [
        "# ваш код\n",
        "df.shape"
      ]
    },
    {
      "cell_type": "markdown",
      "metadata": {
        "id": "Zg5ymhc-AxlK"
      },
      "source": [
        "27) Вывести общую информацию о датафрейме при помощи метода info()"
      ]
    },
    {
      "cell_type": "code",
      "execution_count": null,
      "metadata": {
        "id": "MfzPKPd7AxlK",
        "outputId": "d39c7426-8ee9-45fe-bf60-9bd692c99310"
      },
      "outputs": [
        {
          "name": "stdout",
          "output_type": "stream",
          "text": [
            "<class 'pandas.core.frame.DataFrame'>\n",
            "RangeIndex: 19158 entries, 0 to 19157\n",
            "Data columns (total 14 columns):\n",
            " #   Column                  Non-Null Count  Dtype  \n",
            "---  ------                  --------------  -----  \n",
            " 0   enrollee_id             19158 non-null  int64  \n",
            " 1   city                    19158 non-null  object \n",
            " 2   city_development_index  19158 non-null  float64\n",
            " 3   gender                  14650 non-null  object \n",
            " 4   relevent_experience     19158 non-null  object \n",
            " 5   enrolled_university     18772 non-null  object \n",
            " 6   education_level         18698 non-null  object \n",
            " 7   major_discipline        16345 non-null  object \n",
            " 8   experience              19093 non-null  object \n",
            " 9   company_size            13220 non-null  object \n",
            " 10  company_type            13018 non-null  object \n",
            " 11  last_new_job            18735 non-null  object \n",
            " 12  training_hours          19158 non-null  int64  \n",
            " 13  target                  19158 non-null  float64\n",
            "dtypes: float64(2), int64(2), object(10)\n",
            "memory usage: 2.0+ MB\n"
          ]
        }
      ],
      "source": [
        "# ваш код\n",
        "df.info()"
      ]
    },
    {
      "cell_type": "markdown",
      "metadata": {
        "id": "F1I3oU9AAxlL"
      },
      "source": [
        "28) Вывести основные описательные статистики для числовых и категориальных признаков"
      ]
    },
    {
      "cell_type": "code",
      "execution_count": null,
      "metadata": {
        "id": "iak9VdSiAxlM",
        "outputId": "6085ab9f-f50a-4580-bbc0-abb2f9d2726c"
      },
      "outputs": [
        {
          "data": {
            "text/html": [
              "<div>\n",
              "<style scoped>\n",
              "    .dataframe tbody tr th:only-of-type {\n",
              "        vertical-align: middle;\n",
              "    }\n",
              "\n",
              "    .dataframe tbody tr th {\n",
              "        vertical-align: top;\n",
              "    }\n",
              "\n",
              "    .dataframe thead th {\n",
              "        text-align: right;\n",
              "    }\n",
              "</style>\n",
              "<table border=\"1\" class=\"dataframe\">\n",
              "  <thead>\n",
              "    <tr style=\"text-align: right;\">\n",
              "      <th></th>\n",
              "      <th>enrollee_id</th>\n",
              "      <th>city_development_index</th>\n",
              "      <th>training_hours</th>\n",
              "      <th>target</th>\n",
              "    </tr>\n",
              "  </thead>\n",
              "  <tbody>\n",
              "    <tr>\n",
              "      <th>count</th>\n",
              "      <td>19158.000000</td>\n",
              "      <td>19158.000000</td>\n",
              "      <td>19158.000000</td>\n",
              "      <td>19158.000000</td>\n",
              "    </tr>\n",
              "    <tr>\n",
              "      <th>mean</th>\n",
              "      <td>16875.358179</td>\n",
              "      <td>0.828848</td>\n",
              "      <td>65.366896</td>\n",
              "      <td>0.249348</td>\n",
              "    </tr>\n",
              "    <tr>\n",
              "      <th>std</th>\n",
              "      <td>9616.292592</td>\n",
              "      <td>0.123362</td>\n",
              "      <td>60.058462</td>\n",
              "      <td>0.432647</td>\n",
              "    </tr>\n",
              "    <tr>\n",
              "      <th>min</th>\n",
              "      <td>1.000000</td>\n",
              "      <td>0.448000</td>\n",
              "      <td>1.000000</td>\n",
              "      <td>0.000000</td>\n",
              "    </tr>\n",
              "    <tr>\n",
              "      <th>25%</th>\n",
              "      <td>8554.250000</td>\n",
              "      <td>0.740000</td>\n",
              "      <td>23.000000</td>\n",
              "      <td>0.000000</td>\n",
              "    </tr>\n",
              "    <tr>\n",
              "      <th>50%</th>\n",
              "      <td>16982.500000</td>\n",
              "      <td>0.903000</td>\n",
              "      <td>47.000000</td>\n",
              "      <td>0.000000</td>\n",
              "    </tr>\n",
              "    <tr>\n",
              "      <th>75%</th>\n",
              "      <td>25169.750000</td>\n",
              "      <td>0.920000</td>\n",
              "      <td>88.000000</td>\n",
              "      <td>0.000000</td>\n",
              "    </tr>\n",
              "    <tr>\n",
              "      <th>max</th>\n",
              "      <td>33380.000000</td>\n",
              "      <td>0.949000</td>\n",
              "      <td>336.000000</td>\n",
              "      <td>1.000000</td>\n",
              "    </tr>\n",
              "  </tbody>\n",
              "</table>\n",
              "</div>"
            ],
            "text/plain": [
              "        enrollee_id  city_development_index  training_hours        target\n",
              "count  19158.000000            19158.000000    19158.000000  19158.000000\n",
              "mean   16875.358179                0.828848       65.366896      0.249348\n",
              "std     9616.292592                0.123362       60.058462      0.432647\n",
              "min        1.000000                0.448000        1.000000      0.000000\n",
              "25%     8554.250000                0.740000       23.000000      0.000000\n",
              "50%    16982.500000                0.903000       47.000000      0.000000\n",
              "75%    25169.750000                0.920000       88.000000      0.000000\n",
              "max    33380.000000                0.949000      336.000000      1.000000"
            ]
          },
          "execution_count": 29,
          "metadata": {},
          "output_type": "execute_result"
        }
      ],
      "source": [
        "# ваш код\n",
        "df.describe()"
      ]
    },
    {
      "cell_type": "markdown",
      "metadata": {
        "id": "iCfv4S2fAxlN"
      },
      "source": [
        "29) Проанализировать кол-во пропусков, а также посмотреть сколько это в процентах от размера датасета (кол-ва строк)"
      ]
    },
    {
      "cell_type": "code",
      "execution_count": null,
      "metadata": {
        "id": "R9OX4BOpAxlN",
        "outputId": "edb1dc2e-7ffd-4817-ca78-5068fdcfe2e2"
      },
      "outputs": [
        {
          "name": "stdout",
          "output_type": "stream",
          "text": [
            "Кол. пропусков: 20733\n",
            "Процент пропусков: 7.730079191087647\n"
          ]
        },
        {
          "data": {
            "text/html": [
              "<div>\n",
              "<style scoped>\n",
              "    .dataframe tbody tr th:only-of-type {\n",
              "        vertical-align: middle;\n",
              "    }\n",
              "\n",
              "    .dataframe tbody tr th {\n",
              "        vertical-align: top;\n",
              "    }\n",
              "\n",
              "    .dataframe thead th {\n",
              "        text-align: right;\n",
              "    }\n",
              "</style>\n",
              "<table border=\"1\" class=\"dataframe\">\n",
              "  <thead>\n",
              "    <tr style=\"text-align: right;\">\n",
              "      <th></th>\n",
              "      <th>Пропуски</th>\n",
              "      <th>Процент</th>\n",
              "    </tr>\n",
              "  </thead>\n",
              "  <tbody>\n",
              "    <tr>\n",
              "      <th>enrollee_id</th>\n",
              "      <td>0</td>\n",
              "      <td>0.000000</td>\n",
              "    </tr>\n",
              "    <tr>\n",
              "      <th>city</th>\n",
              "      <td>0</td>\n",
              "      <td>0.000000</td>\n",
              "    </tr>\n",
              "    <tr>\n",
              "      <th>city_development_index</th>\n",
              "      <td>0</td>\n",
              "      <td>0.000000</td>\n",
              "    </tr>\n",
              "    <tr>\n",
              "      <th>gender</th>\n",
              "      <td>4508</td>\n",
              "      <td>23.530640</td>\n",
              "    </tr>\n",
              "    <tr>\n",
              "      <th>relevent_experience</th>\n",
              "      <td>0</td>\n",
              "      <td>0.000000</td>\n",
              "    </tr>\n",
              "    <tr>\n",
              "      <th>enrolled_university</th>\n",
              "      <td>386</td>\n",
              "      <td>2.014824</td>\n",
              "    </tr>\n",
              "    <tr>\n",
              "      <th>education_level</th>\n",
              "      <td>460</td>\n",
              "      <td>2.401086</td>\n",
              "    </tr>\n",
              "    <tr>\n",
              "      <th>major_discipline</th>\n",
              "      <td>2813</td>\n",
              "      <td>14.683161</td>\n",
              "    </tr>\n",
              "    <tr>\n",
              "      <th>experience</th>\n",
              "      <td>65</td>\n",
              "      <td>0.339284</td>\n",
              "    </tr>\n",
              "    <tr>\n",
              "      <th>company_size</th>\n",
              "      <td>5938</td>\n",
              "      <td>30.994885</td>\n",
              "    </tr>\n",
              "    <tr>\n",
              "      <th>company_type</th>\n",
              "      <td>6140</td>\n",
              "      <td>32.049274</td>\n",
              "    </tr>\n",
              "    <tr>\n",
              "      <th>last_new_job</th>\n",
              "      <td>423</td>\n",
              "      <td>2.207955</td>\n",
              "    </tr>\n",
              "    <tr>\n",
              "      <th>training_hours</th>\n",
              "      <td>0</td>\n",
              "      <td>0.000000</td>\n",
              "    </tr>\n",
              "    <tr>\n",
              "      <th>target</th>\n",
              "      <td>0</td>\n",
              "      <td>0.000000</td>\n",
              "    </tr>\n",
              "  </tbody>\n",
              "</table>\n",
              "</div>"
            ],
            "text/plain": [
              "                        Пропуски    Процент\n",
              "enrollee_id                    0   0.000000\n",
              "city                           0   0.000000\n",
              "city_development_index         0   0.000000\n",
              "gender                      4508  23.530640\n",
              "relevent_experience            0   0.000000\n",
              "enrolled_university          386   2.014824\n",
              "education_level              460   2.401086\n",
              "major_discipline            2813  14.683161\n",
              "experience                    65   0.339284\n",
              "company_size                5938  30.994885\n",
              "company_type                6140  32.049274\n",
              "last_new_job                 423   2.207955\n",
              "training_hours                 0   0.000000\n",
              "target                         0   0.000000"
            ]
          },
          "execution_count": 30,
          "metadata": {},
          "output_type": "execute_result"
        }
      ],
      "source": [
        "# ваш код\n",
        "missing_values_count = df.isnull().sum()\n",
        "total_rows = df.shape[0]\n",
        "missing_percentage = (missing_values_count / total_rows) * 100\n",
        "\n",
        "missing_values_summary = pd.DataFrame({\n",
        "    'Пропуски': missing_values_count,\n",
        "    'Процент': missing_percentage\n",
        "})\n",
        "total_missing_values = missing_values_count.sum()\n",
        "total_missing_percentage = (total_missing_values / (total_rows * df.shape[1])) * 100\n",
        "print(\"Кол. пропусков:\", total_missing_values)\n",
        "print(\"Процент пропусков:\",total_missing_percentage)\n",
        "missing_values_summary"
      ]
    },
    {
      "cell_type": "markdown",
      "metadata": {
        "id": "AbyGddu5AxlO"
      },
      "source": [
        "30) Заполните пропусками датасет"
      ]
    },
    {
      "cell_type": "code",
      "execution_count": null,
      "metadata": {
        "id": "oBfZVcxJAxlP"
      },
      "outputs": [],
      "source": [
        "# ваш код\n",
        "df = df.fillna('None')"
      ]
    },
    {
      "cell_type": "markdown",
      "metadata": {
        "id": "FIPqK5DBAxlQ"
      },
      "source": [
        "31) Посмотрите на целевую переменную **target** при помощи seaborn.countplot. Какое соотношение классов? Есть ли дисбаланс?"
      ]
    },
    {
      "cell_type": "code",
      "execution_count": null,
      "metadata": {
        "id": "-rSrH4eUAxlR",
        "outputId": "ae2ce72a-ba04-4a3b-8dd1-9c6890067312"
      },
      "outputs": [
        {
          "data": {
            "image/png": "[encoded data removed]",
            "text/plain": [
              "<Figure size 800x500 with 1 Axes>"
            ]
          },
          "metadata": {},
          "output_type": "display_data"
        }
      ],
      "source": [
        "# ваш код\n",
        "plt.figure(figsize=(8, 5))\n",
        "sns.countplot(data=df, x='target')\n",
        "plt.xlabel('Класс')\n",
        "plt.ylabel('Количество')\n",
        "plt.show()"
      ]
    },
    {
      "cell_type": "markdown",
      "metadata": {
        "id": "9d2SSJvRSTxm"
      },
      "source": [
        "Класс 0 составляет примерно 75% данных, Класс 1 — около 25%. Есть дисбаланс."
      ]
    },
    {
      "cell_type": "markdown",
      "metadata": {
        "id": "DYJW2yvoAxlS"
      },
      "source": [
        "32) Создайте новую переменную **df_label**, присвойте ей трансформированный датасет df при помощи One-hot кодирования (лучше использовать pandas.get_dummies() для бинаризации)\n",
        "\n",
        "- Примените drop_first = True\n",
        "- Не забудьте удалить индексы ('enrollee_id')"
      ]
    },
    {
      "cell_type": "code",
      "execution_count": null,
      "metadata": {
        "id": "cevfaoWOAxlT",
        "outputId": "720e8d80-dd31-42cf-ab3b-8163f6560791"
      },
      "outputs": [
        {
          "data": {
            "text/html": [
              "<div>\n",
              "<style scoped>\n",
              "    .dataframe tbody tr th:only-of-type {\n",
              "        vertical-align: middle;\n",
              "    }\n",
              "\n",
              "    .dataframe tbody tr th {\n",
              "        vertical-align: top;\n",
              "    }\n",
              "\n",
              "    .dataframe thead th {\n",
              "        text-align: right;\n",
              "    }\n",
              "</style>\n",
              "<table border=\"1\" class=\"dataframe\">\n",
              "  <thead>\n",
              "    <tr style=\"text-align: right;\">\n",
              "      <th></th>\n",
              "      <th>city_development_index</th>\n",
              "      <th>training_hours</th>\n",
              "      <th>target</th>\n",
              "      <th>city_city_10</th>\n",
              "      <th>city_city_100</th>\n",
              "      <th>city_city_101</th>\n",
              "      <th>city_city_102</th>\n",
              "      <th>city_city_103</th>\n",
              "      <th>city_city_104</th>\n",
              "      <th>city_city_105</th>\n",
              "      <th>...</th>\n",
              "      <th>company_type_None</th>\n",
              "      <th>company_type_Other</th>\n",
              "      <th>company_type_Public Sector</th>\n",
              "      <th>company_type_Pvt Ltd</th>\n",
              "      <th>last_new_job_2</th>\n",
              "      <th>last_new_job_3</th>\n",
              "      <th>last_new_job_4</th>\n",
              "      <th>last_new_job_&gt;4</th>\n",
              "      <th>last_new_job_None</th>\n",
              "      <th>last_new_job_never</th>\n",
              "    </tr>\n",
              "  </thead>\n",
              "  <tbody>\n",
              "    <tr>\n",
              "      <th>0</th>\n",
              "      <td>0.920</td>\n",
              "      <td>36</td>\n",
              "      <td>1.0</td>\n",
              "      <td>False</td>\n",
              "      <td>False</td>\n",
              "      <td>False</td>\n",
              "      <td>False</td>\n",
              "      <td>True</td>\n",
              "      <td>False</td>\n",
              "      <td>False</td>\n",
              "      <td>...</td>\n",
              "      <td>True</td>\n",
              "      <td>False</td>\n",
              "      <td>False</td>\n",
              "      <td>False</td>\n",
              "      <td>False</td>\n",
              "      <td>False</td>\n",
              "      <td>False</td>\n",
              "      <td>False</td>\n",
              "      <td>False</td>\n",
              "      <td>False</td>\n",
              "    </tr>\n",
              "    <tr>\n",
              "      <th>1</th>\n",
              "      <td>0.776</td>\n",
              "      <td>47</td>\n",
              "      <td>0.0</td>\n",
              "      <td>False</td>\n",
              "      <td>False</td>\n",
              "      <td>False</td>\n",
              "      <td>False</td>\n",
              "      <td>False</td>\n",
              "      <td>False</td>\n",
              "      <td>False</td>\n",
              "      <td>...</td>\n",
              "      <td>False</td>\n",
              "      <td>False</td>\n",
              "      <td>False</td>\n",
              "      <td>True</td>\n",
              "      <td>False</td>\n",
              "      <td>False</td>\n",
              "      <td>False</td>\n",
              "      <td>True</td>\n",
              "      <td>False</td>\n",
              "      <td>False</td>\n",
              "    </tr>\n",
              "    <tr>\n",
              "      <th>2</th>\n",
              "      <td>0.624</td>\n",
              "      <td>83</td>\n",
              "      <td>0.0</td>\n",
              "      <td>False</td>\n",
              "      <td>False</td>\n",
              "      <td>False</td>\n",
              "      <td>False</td>\n",
              "      <td>False</td>\n",
              "      <td>False</td>\n",
              "      <td>False</td>\n",
              "      <td>...</td>\n",
              "      <td>True</td>\n",
              "      <td>False</td>\n",
              "      <td>False</td>\n",
              "      <td>False</td>\n",
              "      <td>False</td>\n",
              "      <td>False</td>\n",
              "      <td>False</td>\n",
              "      <td>False</td>\n",
              "      <td>False</td>\n",
              "      <td>True</td>\n",
              "    </tr>\n",
              "    <tr>\n",
              "      <th>3</th>\n",
              "      <td>0.789</td>\n",
              "      <td>52</td>\n",
              "      <td>1.0</td>\n",
              "      <td>False</td>\n",
              "      <td>False</td>\n",
              "      <td>False</td>\n",
              "      <td>False</td>\n",
              "      <td>False</td>\n",
              "      <td>False</td>\n",
              "      <td>False</td>\n",
              "      <td>...</td>\n",
              "      <td>False</td>\n",
              "      <td>False</td>\n",
              "      <td>False</td>\n",
              "      <td>True</td>\n",
              "      <td>False</td>\n",
              "      <td>False</td>\n",
              "      <td>False</td>\n",
              "      <td>False</td>\n",
              "      <td>False</td>\n",
              "      <td>True</td>\n",
              "    </tr>\n",
              "    <tr>\n",
              "      <th>4</th>\n",
              "      <td>0.767</td>\n",
              "      <td>8</td>\n",
              "      <td>0.0</td>\n",
              "      <td>False</td>\n",
              "      <td>False</td>\n",
              "      <td>False</td>\n",
              "      <td>False</td>\n",
              "      <td>False</td>\n",
              "      <td>False</td>\n",
              "      <td>False</td>\n",
              "      <td>...</td>\n",
              "      <td>False</td>\n",
              "      <td>False</td>\n",
              "      <td>False</td>\n",
              "      <td>False</td>\n",
              "      <td>False</td>\n",
              "      <td>False</td>\n",
              "      <td>True</td>\n",
              "      <td>False</td>\n",
              "      <td>False</td>\n",
              "      <td>False</td>\n",
              "    </tr>\n",
              "  </tbody>\n",
              "</table>\n",
              "<p>5 rows × 185 columns</p>\n",
              "</div>"
            ],
            "text/plain": [
              "   city_development_index  training_hours  target  city_city_10  \\\n",
              "0                   0.920              36     1.0         False   \n",
              "1                   0.776              47     0.0         False   \n",
              "2                   0.624              83     0.0         False   \n",
              "3                   0.789              52     1.0         False   \n",
              "4                   0.767               8     0.0         False   \n",
              "\n",
              "   city_city_100  city_city_101  city_city_102  city_city_103  city_city_104  \\\n",
              "0          False          False          False           True          False   \n",
              "1          False          False          False          False          False   \n",
              "2          False          False          False          False          False   \n",
              "3          False          False          False          False          False   \n",
              "4          False          False          False          False          False   \n",
              "\n",
              "   city_city_105  ...  company_type_None  company_type_Other  \\\n",
              "0          False  ...               True               False   \n",
              "1          False  ...              False               False   \n",
              "2          False  ...               True               False   \n",
              "3          False  ...              False               False   \n",
              "4          False  ...              False               False   \n",
              "\n",
              "   company_type_Public Sector  company_type_Pvt Ltd  last_new_job_2  \\\n",
              "0                       False                 False           False   \n",
              "1                       False                  True           False   \n",
              "2                       False                 False           False   \n",
              "3                       False                  True           False   \n",
              "4                       False                 False           False   \n",
              "\n",
              "   last_new_job_3  last_new_job_4  last_new_job_>4  last_new_job_None  \\\n",
              "0           False           False            False              False   \n",
              "1           False           False             True              False   \n",
              "2           False           False            False              False   \n",
              "3           False           False            False              False   \n",
              "4           False            True            False              False   \n",
              "\n",
              "   last_new_job_never  \n",
              "0               False  \n",
              "1               False  \n",
              "2                True  \n",
              "3                True  \n",
              "4               False  \n",
              "\n",
              "[5 rows x 185 columns]"
            ]
          },
          "execution_count": 33,
          "metadata": {},
          "output_type": "execute_result"
        }
      ],
      "source": [
        "# ваш код\n",
        "df_label = df.drop(columns=['enrollee_id'])\n",
        "df_label = pd.get_dummies(df_label, drop_first=True)\n",
        "df_label.head()"
      ]
    },
    {
      "cell_type": "code",
      "execution_count": null,
      "metadata": {
        "id": "0Q7hGxMjAxlT"
      },
      "outputs": [],
      "source": [
        "def get_metrics(y_test, y_pred, y_score, name):\n",
        "    df_metrics = pd.DataFrame()\n",
        "\n",
        "    df_metrics['model'] = [name]\n",
        "\n",
        "    # Основные метрики для задачи классификации\n",
        "    df_metrics['Accuracy'] = accuracy_score(y_test, y_pred)\n",
        "    df_metrics['ROC_AUC'] = roc_auc_score(y_test, y_score)\n",
        "    df_metrics['Precision'] = precision_score(y_test, y_pred)\n",
        "    df_metrics['Recall'] = recall_score(y_test, y_pred)\n",
        "    df_metrics['f1'] = f1_score(y_test, y_pred)\n",
        "    df_metrics['Logloss'] = log_loss(y_test, y_score)\n",
        "\n",
        "    return df_metrics"
      ]
    },
    {
      "cell_type": "markdown",
      "metadata": {
        "id": "pqqgIAa5AxlX"
      },
      "source": [
        "## Modeling Baseline"
      ]
    },
    {
      "cell_type": "markdown",
      "metadata": {
        "id": "KhLBoOv8AxlY"
      },
      "source": [
        "33) Разбиение данных на train/test\n",
        "\n",
        "- Разбейте данные на тренировочные и тестовые test_size=0.25\n",
        "- Установите константу RAND = 10 в самом начале и используйте далее как random_state\n",
        "- Не забывайте про стандартизацию\n",
        "- Установите stratify=y\n",
        "- Не забывайте, что нужно для записи данных в переменную X удалить целевую переменную target"
      ]
    },
    {
      "cell_type": "code",
      "execution_count": null,
      "metadata": {
        "id": "FWsX3UCcAxlZ"
      },
      "outputs": [],
      "source": [
        "# ваш код\n",
        "X = df_label.drop(columns=['target'])\n",
        "y = df_label['target']\n",
        "\n",
        "X_train, X_test, y_train, y_test = train_test_split(\n",
        "    X, y, test_size=0.25, random_state=RAND, stratify=y\n",
        ")\n",
        "scaler = StandardScaler()\n",
        "X_train_scaled = scaler.fit_transform(X_train)\n",
        "X_test_scaled = scaler.transform(X_test)\n"
      ]
    },
    {
      "cell_type": "markdown",
      "metadata": {
        "id": "zs2iSdc9Axla"
      },
      "source": [
        "34) Примените стандартный метод для логистической регресии из **sklearn**\n",
        "\n",
        "- Обучите модель на стандартизованных train и получите предсказанные значения на test\n",
        "- Используйте для baseline параметр **class_weight и random_state**\n",
        "- Сделайте отдельный вывод метрик в DataFrame и запишите **результат в переменную metrics**"
      ]
    },
    {
      "cell_type": "code",
      "execution_count": null,
      "metadata": {
        "id": "UPm61q97Axlb",
        "outputId": "acd93e81-a7ab-41af-f29e-826b45bd19ed"
      },
      "outputs": [
        {
          "data": {
            "text/html": [
              "<div>\n",
              "<style scoped>\n",
              "    .dataframe tbody tr th:only-of-type {\n",
              "        vertical-align: middle;\n",
              "    }\n",
              "\n",
              "    .dataframe tbody tr th {\n",
              "        vertical-align: top;\n",
              "    }\n",
              "\n",
              "    .dataframe thead th {\n",
              "        text-align: right;\n",
              "    }\n",
              "</style>\n",
              "<table border=\"1\" class=\"dataframe\">\n",
              "  <thead>\n",
              "    <tr style=\"text-align: right;\">\n",
              "      <th></th>\n",
              "      <th>model</th>\n",
              "      <th>Accuracy</th>\n",
              "      <th>ROC_AUC</th>\n",
              "      <th>Precision</th>\n",
              "      <th>Recall</th>\n",
              "      <th>f1</th>\n",
              "      <th>Logloss</th>\n",
              "    </tr>\n",
              "  </thead>\n",
              "  <tbody>\n",
              "    <tr>\n",
              "      <th>0</th>\n",
              "      <td>Logistic Regression</td>\n",
              "      <td>0.761795</td>\n",
              "      <td>0.789788</td>\n",
              "      <td>0.515488</td>\n",
              "      <td>0.738693</td>\n",
              "      <td>0.607229</td>\n",
              "      <td>0.564514</td>\n",
              "    </tr>\n",
              "  </tbody>\n",
              "</table>\n",
              "</div>"
            ],
            "text/plain": [
              "                 model  Accuracy   ROC_AUC  Precision    Recall        f1  \\\n",
              "0  Logistic Regression  0.761795  0.789788   0.515488  0.738693  0.607229   \n",
              "\n",
              "    Logloss  \n",
              "0  0.564514  "
            ]
          },
          "execution_count": 38,
          "metadata": {},
          "output_type": "execute_result"
        }
      ],
      "source": [
        "# ваш код\n",
        "model = LogisticRegression(class_weight='balanced', random_state=RAND)\n",
        "model.fit(X_train_scaled, y_train)\n",
        "\n",
        "y_pred = model.predict(X_test_scaled)\n",
        "y_score = model.predict_proba(X_test_scaled)\n",
        "\n",
        "metrics = get_metrics(y_test, y_pred, y_score[:, 1], name='Logistic Regression')\n",
        "metrics"
      ]
    },
    {
      "cell_type": "markdown",
      "metadata": {
        "id": "ZpKgTu5GAxlb"
      },
      "source": [
        "35) Постройте график кривой ROC-AUC"
      ]
    },
    {
      "cell_type": "code",
      "execution_count": null,
      "metadata": {
        "id": "HmEd-S_ZAxlc",
        "outputId": "d6be2ea5-e017-4f8e-d67a-2355c8676f8f"
      },
      "outputs": [
        {
          "data": {
            "image/png": "[encoded data removed]",
            "text/plain": [
              "<Figure size 640x480 with 1 Axes>"
            ]
          },
          "metadata": {},
          "output_type": "display_data"
        }
      ],
      "source": [
        "# ваш код\n",
        "y_probs = model.predict_proba(X_test_scaled)[:, 1]\n",
        "fpr, tpr, thresholds = roc_curve(y_test, y_probs)\n",
        "roc_auc = roc_auc_score(y_test, y_probs)\n",
        "\n",
        "plt.plot(fpr, tpr, color='blue', label=f'ROC AUC = {roc_auc:.2f}')\n",
        "plt.plot([0, 1], [0, 1], color='red', linestyle='--')\n",
        "plt.xlabel('False Positive Rate')\n",
        "plt.ylabel('True Positive Rate')\n",
        "plt.title('ROC Curve')\n",
        "plt.legend()\n",
        "plt.show()"
      ]
    },
    {
      "cell_type": "markdown",
      "metadata": {
        "id": "QKDUUH43Axle"
      },
      "source": [
        "## GridSearch"
      ]
    },
    {
      "cell_type": "markdown",
      "metadata": {
        "id": "LrRukLEiAxle"
      },
      "source": [
        "36) Найдите параметры для LogisticRegression, используя StratifiedKFold с 3 фолдами, при помощи **GridSearch**\n",
        "\n",
        "- Метрика для оптимизации scoring = 'roc_auc'\n",
        "\n",
        "- Нужно использовать такие параметры как: penalty, C, solver, l1_ratio\n",
        "\n",
        "- Не забудьте для StratifiedKFold зафиксировать random_state и class_weight"
      ]
    },
    {
      "cell_type": "code",
      "execution_count": null,
      "metadata": {
        "id": "20JzOHkYAxlf",
        "outputId": "56321d0e-0c72-4d8a-aa9e-1efc22dc84a3"
      },
      "outputs": [
        {
          "name": "stdout",
          "output_type": "stream",
          "text": [
            "Fitting 3 folds for each of 54 candidates, totalling 162 fits\n"
          ]
        },
        {
          "data": {
            "text/html": [
              "<style>#sk-container-id-1 {\n",
              "  /* Definition of color scheme common for light and dark mode */\n",
              "  --sklearn-color-text: black;\n",
              "  --sklearn-color-line: gray;\n",
              "  /* Definition of color scheme for unfitted estimators */\n",
              "  --sklearn-color-unfitted-level-0: #fff5e6;\n",
              "  --sklearn-color-unfitted-level-1: #f6e4d2;\n",
              "  --sklearn-color-unfitted-level-2: #ffe0b3;\n",
              "  --sklearn-color-unfitted-level-3: chocolate;\n",
              "  /* Definition of color scheme for fitted estimators */\n",
              "  --sklearn-color-fitted-level-0: #f0f8ff;\n",
              "  --sklearn-color-fitted-level-1: #d4ebff;\n",
              "  --sklearn-color-fitted-level-2: #b3dbfd;\n",
              "  --sklearn-color-fitted-level-3: cornflowerblue;\n",
              "\n",
              "  /* Specific color for light theme */\n",
              "  --sklearn-color-text-on-default-background: var(--sg-text-color, var(--theme-code-foreground, var(--jp-content-font-color1, black)));\n",
              "  --sklearn-color-background: var(--sg-background-color, var(--theme-background, var(--jp-layout-color0, white)));\n",
              "  --sklearn-color-border-box: var(--sg-text-color, var(--theme-code-foreground, var(--jp-content-font-color1, black)));\n",
              "  --sklearn-color-icon: #696969;\n",
              "\n",
              "  @media (prefers-color-scheme: dark) {\n",
              "    /* Redefinition of color scheme for dark theme */\n",
              "    --sklearn-color-text-on-default-background: var(--sg-text-color, var(--theme-code-foreground, var(--jp-content-font-color1, white)));\n",
              "    --sklearn-color-background: var(--sg-background-color, var(--theme-background, var(--jp-layout-color0, #111)));\n",
              "    --sklearn-color-border-box: var(--sg-text-color, var(--theme-code-foreground, var(--jp-content-font-color1, white)));\n",
              "    --sklearn-color-icon: #878787;\n",
              "  }\n",
              "}\n",
              "\n",
              "#sk-container-id-1 {\n",
              "  color: var(--sklearn-color-text);\n",
              "}\n",
              "\n",
              "#sk-container-id-1 pre {\n",
              "  padding: 0;\n",
              "}\n",
              "\n",
              "#sk-container-id-1 input.sk-hidden--visually {\n",
              "  border: 0;\n",
              "  clip: rect(1px 1px 1px 1px);\n",
              "  clip: rect(1px, 1px, 1px, 1px);\n",
              "  height: 1px;\n",
              "  margin: -1px;\n",
              "  overflow: hidden;\n",
              "  padding: 0;\n",
              "  position: absolute;\n",
              "  width: 1px;\n",
              "}\n",
              "\n",
              "#sk-container-id-1 div.sk-dashed-wrapped {\n",
              "  border: 1px dashed var(--sklearn-color-line);\n",
              "  margin: 0 0.4em 0.5em 0.4em;\n",
              "  box-sizing: border-box;\n",
              "  padding-bottom: 0.4em;\n",
              "  background-color: var(--sklearn-color-background);\n",
              "}\n",
              "\n",
              "#sk-container-id-1 div.sk-container {\n",
              "  /* jupyter's `normalize.less` sets `[hidden] { display: none; }`\n",
              "     but bootstrap.min.css set `[hidden] { display: none !important; }`\n",
              "     so we also need the `!important` here to be able to override the\n",
              "     default hidden behavior on the sphinx rendered scikit-learn.org.\n",
              "     See: https://github.com/scikit-learn/scikit-learn/issues/21755 */\n",
              "  display: inline-block !important;\n",
              "  position: relative;\n",
              "}\n",
              "\n",
              "#sk-container-id-1 div.sk-text-repr-fallback {\n",
              "  display: none;\n",
              "}\n",
              "\n",
              "div.sk-parallel-item,\n",
              "div.sk-serial,\n",
              "div.sk-item {\n",
              "  /* draw centered vertical line to link estimators */\n",
              "  background-image: linear-gradient(var(--sklearn-color-text-on-default-background), var(--sklearn-color-text-on-default-background));\n",
              "  background-size: 2px 100%;\n",
              "  background-repeat: no-repeat;\n",
              "  background-position: center center;\n",
              "}\n",
              "\n",
              "/* Parallel-specific style estimator block */\n",
              "\n",
              "#sk-container-id-1 div.sk-parallel-item::after {\n",
              "  content: \"\";\n",
              "  width: 100%;\n",
              "  border-bottom: 2px solid var(--sklearn-color-text-on-default-background);\n",
              "  flex-grow: 1;\n",
              "}\n",
              "\n",
              "#sk-container-id-1 div.sk-parallel {\n",
              "  display: flex;\n",
              "  align-items: stretch;\n",
              "  justify-content: center;\n",
              "  background-color: var(--sklearn-color-background);\n",
              "  position: relative;\n",
              "}\n",
              "\n",
              "#sk-container-id-1 div.sk-parallel-item {\n",
              "  display: flex;\n",
              "  flex-direction: column;\n",
              "}\n",
              "\n",
              "#sk-container-id-1 div.sk-parallel-item:first-child::after {\n",
              "  align-self: flex-end;\n",
              "  width: 50%;\n",
              "}\n",
              "\n",
              "#sk-container-id-1 div.sk-parallel-item:last-child::after {\n",
              "  align-self: flex-start;\n",
              "  width: 50%;\n",
              "}\n",
              "\n",
              "#sk-container-id-1 div.sk-parallel-item:only-child::after {\n",
              "  width: 0;\n",
              "}\n",
              "\n",
              "/* Serial-specific style estimator block */\n",
              "\n",
              "#sk-container-id-1 div.sk-serial {\n",
              "  display: flex;\n",
              "  flex-direction: column;\n",
              "  align-items: center;\n",
              "  background-color: var(--sklearn-color-background);\n",
              "  padding-right: 1em;\n",
              "  padding-left: 1em;\n",
              "}\n",
              "\n",
              "\n",
              "/* Toggleable style: style used for estimator/Pipeline/ColumnTransformer box that is\n",
              "clickable and can be expanded/collapsed.\n",
              "- Pipeline and ColumnTransformer use this feature and define the default style\n",
              "- Estimators will overwrite some part of the style using the `sk-estimator` class\n",
              "*/\n",
              "\n",
              "/* Pipeline and ColumnTransformer style (default) */\n",
              "\n",
              "#sk-container-id-1 div.sk-toggleable {\n",
              "  /* Default theme specific background. It is overwritten whether we have a\n",
              "  specific estimator or a Pipeline/ColumnTransformer */\n",
              "  background-color: var(--sklearn-color-background);\n",
              "}\n",
              "\n",
              "/* Toggleable label */\n",
              "#sk-container-id-1 label.sk-toggleable__label {\n",
              "  cursor: pointer;\n",
              "  display: block;\n",
              "  width: 100%;\n",
              "  margin-bottom: 0;\n",
              "  padding: 0.5em;\n",
              "  box-sizing: border-box;\n",
              "  text-align: center;\n",
              "}\n",
              "\n",
              "#sk-container-id-1 label.sk-toggleable__label-arrow:before {\n",
              "  /* Arrow on the left of the label */\n",
              "  content: \"▸\";\n",
              "  float: left;\n",
              "  margin-right: 0.25em;\n",
              "  color: var(--sklearn-color-icon);\n",
              "}\n",
              "\n",
              "#sk-container-id-1 label.sk-toggleable__label-arrow:hover:before {\n",
              "  color: var(--sklearn-color-text);\n",
              "}\n",
              "\n",
              "/* Toggleable content - dropdown */\n",
              "\n",
              "#sk-container-id-1 div.sk-toggleable__content {\n",
              "  max-height: 0;\n",
              "  max-width: 0;\n",
              "  overflow: hidden;\n",
              "  text-align: left;\n",
              "  /* unfitted */\n",
              "  background-color: var(--sklearn-color-unfitted-level-0);\n",
              "}\n",
              "\n",
              "#sk-container-id-1 div.sk-toggleable__content.fitted {\n",
              "  /* fitted */\n",
              "  background-color: var(--sklearn-color-fitted-level-0);\n",
              "}\n",
              "\n",
              "#sk-container-id-1 div.sk-toggleable__content pre {\n",
              "  margin: 0.2em;\n",
              "  border-radius: 0.25em;\n",
              "  color: var(--sklearn-color-text);\n",
              "  /* unfitted */\n",
              "  background-color: var(--sklearn-color-unfitted-level-0);\n",
              "}\n",
              "\n",
              "#sk-container-id-1 div.sk-toggleable__content.fitted pre {\n",
              "  /* unfitted */\n",
              "  background-color: var(--sklearn-color-fitted-level-0);\n",
              "}\n",
              "\n",
              "#sk-container-id-1 input.sk-toggleable__control:checked~div.sk-toggleable__content {\n",
              "  /* Expand drop-down */\n",
              "  max-height: 200px;\n",
              "  max-width: 100%;\n",
              "  overflow: auto;\n",
              "}\n",
              "\n",
              "#sk-container-id-1 input.sk-toggleable__control:checked~label.sk-toggleable__label-arrow:before {\n",
              "  content: \"▾\";\n",
              "}\n",
              "\n",
              "/* Pipeline/ColumnTransformer-specific style */\n",
              "\n",
              "#sk-container-id-1 div.sk-label input.sk-toggleable__control:checked~label.sk-toggleable__label {\n",
              "  color: var(--sklearn-color-text);\n",
              "  background-color: var(--sklearn-color-unfitted-level-2);\n",
              "}\n",
              "\n",
              "#sk-container-id-1 div.sk-label.fitted input.sk-toggleable__control:checked~label.sk-toggleable__label {\n",
              "  background-color: var(--sklearn-color-fitted-level-2);\n",
              "}\n",
              "\n",
              "/* Estimator-specific style */\n",
              "\n",
              "/* Colorize estimator box */\n",
              "#sk-container-id-1 div.sk-estimator input.sk-toggleable__control:checked~label.sk-toggleable__label {\n",
              "  /* unfitted */\n",
              "  background-color: var(--sklearn-color-unfitted-level-2);\n",
              "}\n",
              "\n",
              "#sk-container-id-1 div.sk-estimator.fitted input.sk-toggleable__control:checked~label.sk-toggleable__label {\n",
              "  /* fitted */\n",
              "  background-color: var(--sklearn-color-fitted-level-2);\n",
              "}\n",
              "\n",
              "#sk-container-id-1 div.sk-label label.sk-toggleable__label,\n",
              "#sk-container-id-1 div.sk-label label {\n",
              "  /* The background is the default theme color */\n",
              "  color: var(--sklearn-color-text-on-default-background);\n",
              "}\n",
              "\n",
              "/* On hover, darken the color of the background */\n",
              "#sk-container-id-1 div.sk-label:hover label.sk-toggleable__label {\n",
              "  color: var(--sklearn-color-text);\n",
              "  background-color: var(--sklearn-color-unfitted-level-2);\n",
              "}\n",
              "\n",
              "/* Label box, darken color on hover, fitted */\n",
              "#sk-container-id-1 div.sk-label.fitted:hover label.sk-toggleable__label.fitted {\n",
              "  color: var(--sklearn-color-text);\n",
              "  background-color: var(--sklearn-color-fitted-level-2);\n",
              "}\n",
              "\n",
              "/* Estimator label */\n",
              "\n",
              "#sk-container-id-1 div.sk-label label {\n",
              "  font-family: monospace;\n",
              "  font-weight: bold;\n",
              "  display: inline-block;\n",
              "  line-height: 1.2em;\n",
              "}\n",
              "\n",
              "#sk-container-id-1 div.sk-label-container {\n",
              "  text-align: center;\n",
              "}\n",
              "\n",
              "/* Estimator-specific */\n",
              "#sk-container-id-1 div.sk-estimator {\n",
              "  font-family: monospace;\n",
              "  border: 1px dotted var(--sklearn-color-border-box);\n",
              "  border-radius: 0.25em;\n",
              "  box-sizing: border-box;\n",
              "  margin-bottom: 0.5em;\n",
              "  /* unfitted */\n",
              "  background-color: var(--sklearn-color-unfitted-level-0);\n",
              "}\n",
              "\n",
              "#sk-container-id-1 div.sk-estimator.fitted {\n",
              "  /* fitted */\n",
              "  background-color: var(--sklearn-color-fitted-level-0);\n",
              "}\n",
              "\n",
              "/* on hover */\n",
              "#sk-container-id-1 div.sk-estimator:hover {\n",
              "  /* unfitted */\n",
              "  background-color: var(--sklearn-color-unfitted-level-2);\n",
              "}\n",
              "\n",
              "#sk-container-id-1 div.sk-estimator.fitted:hover {\n",
              "  /* fitted */\n",
              "  background-color: var(--sklearn-color-fitted-level-2);\n",
              "}\n",
              "\n",
              "/* Specification for estimator info (e.g. \"i\" and \"?\") */\n",
              "\n",
              "/* Common style for \"i\" and \"?\" */\n",
              "\n",
              ".sk-estimator-doc-link,\n",
              "a:link.sk-estimator-doc-link,\n",
              "a:visited.sk-estimator-doc-link {\n",
              "  float: right;\n",
              "  font-size: smaller;\n",
              "  line-height: 1em;\n",
              "  font-family: monospace;\n",
              "  background-color: var(--sklearn-color-background);\n",
              "  border-radius: 1em;\n",
              "  height: 1em;\n",
              "  width: 1em;\n",
              "  text-decoration: none !important;\n",
              "  margin-left: 1ex;\n",
              "  /* unfitted */\n",
              "  border: var(--sklearn-color-unfitted-level-1) 1pt solid;\n",
              "  color: var(--sklearn-color-unfitted-level-1);\n",
              "}\n",
              "\n",
              ".sk-estimator-doc-link.fitted,\n",
              "a:link.sk-estimator-doc-link.fitted,\n",
              "a:visited.sk-estimator-doc-link.fitted {\n",
              "  /* fitted */\n",
              "  border: var(--sklearn-color-fitted-level-1) 1pt solid;\n",
              "  color: var(--sklearn-color-fitted-level-1);\n",
              "}\n",
              "\n",
              "/* On hover */\n",
              "div.sk-estimator:hover .sk-estimator-doc-link:hover,\n",
              ".sk-estimator-doc-link:hover,\n",
              "div.sk-label-container:hover .sk-estimator-doc-link:hover,\n",
              ".sk-estimator-doc-link:hover {\n",
              "  /* unfitted */\n",
              "  background-color: var(--sklearn-color-unfitted-level-3);\n",
              "  color: var(--sklearn-color-background);\n",
              "  text-decoration: none;\n",
              "}\n",
              "\n",
              "div.sk-estimator.fitted:hover .sk-estimator-doc-link.fitted:hover,\n",
              ".sk-estimator-doc-link.fitted:hover,\n",
              "div.sk-label-container:hover .sk-estimator-doc-link.fitted:hover,\n",
              ".sk-estimator-doc-link.fitted:hover {\n",
              "  /* fitted */\n",
              "  background-color: var(--sklearn-color-fitted-level-3);\n",
              "  color: var(--sklearn-color-background);\n",
              "  text-decoration: none;\n",
              "}\n",
              "\n",
              "/* Span, style for the box shown on hovering the info icon */\n",
              ".sk-estimator-doc-link span {\n",
              "  display: none;\n",
              "  z-index: 9999;\n",
              "  position: relative;\n",
              "  font-weight: normal;\n",
              "  right: .2ex;\n",
              "  padding: .5ex;\n",
              "  margin: .5ex;\n",
              "  width: min-content;\n",
              "  min-width: 20ex;\n",
              "  max-width: 50ex;\n",
              "  color: var(--sklearn-color-text);\n",
              "  box-shadow: 2pt 2pt 4pt #999;\n",
              "  /* unfitted */\n",
              "  background: var(--sklearn-color-unfitted-level-0);\n",
              "  border: .5pt solid var(--sklearn-color-unfitted-level-3);\n",
              "}\n",
              "\n",
              ".sk-estimator-doc-link.fitted span {\n",
              "  /* fitted */\n",
              "  background: var(--sklearn-color-fitted-level-0);\n",
              "  border: var(--sklearn-color-fitted-level-3);\n",
              "}\n",
              "\n",
              ".sk-estimator-doc-link:hover span {\n",
              "  display: block;\n",
              "}\n",
              "\n",
              "/* \"?\"-specific style due to the `<a>` HTML tag */\n",
              "\n",
              "#sk-container-id-1 a.estimator_doc_link {\n",
              "  float: right;\n",
              "  font-size: 1rem;\n",
              "  line-height: 1em;\n",
              "  font-family: monospace;\n",
              "  background-color: var(--sklearn-color-background);\n",
              "  border-radius: 1rem;\n",
              "  height: 1rem;\n",
              "  width: 1rem;\n",
              "  text-decoration: none;\n",
              "  /* unfitted */\n",
              "  color: var(--sklearn-color-unfitted-level-1);\n",
              "  border: var(--sklearn-color-unfitted-level-1) 1pt solid;\n",
              "}\n",
              "\n",
              "#sk-container-id-1 a.estimator_doc_link.fitted {\n",
              "  /* fitted */\n",
              "  border: var(--sklearn-color-fitted-level-1) 1pt solid;\n",
              "  color: var(--sklearn-color-fitted-level-1);\n",
              "}\n",
              "\n",
              "/* On hover */\n",
              "#sk-container-id-1 a.estimator_doc_link:hover {\n",
              "  /* unfitted */\n",
              "  background-color: var(--sklearn-color-unfitted-level-3);\n",
              "  color: var(--sklearn-color-background);\n",
              "  text-decoration: none;\n",
              "}\n",
              "\n",
              "#sk-container-id-1 a.estimator_doc_link.fitted:hover {\n",
              "  /* fitted */\n",
              "  background-color: var(--sklearn-color-fitted-level-3);\n",
              "}\n",
              "</style><div id=\"sk-container-id-1\" class=\"sk-top-container\"><div class=\"sk-text-repr-fallback\"><pre>GridSearchCV(cv=StratifiedKFold(n_splits=3, random_state=10, shuffle=True),\n",
              "             estimator=LogisticRegression(class_weight=&#x27;balanced&#x27;,\n",
              "                                          max_iter=1000, random_state=10),\n",
              "             n_jobs=-1,\n",
              "             param_grid={&#x27;C&#x27;: [0.01, 0.1, 1], &#x27;l1_ratio&#x27;: [0.0, 0.5, 1.0],\n",
              "                         &#x27;penalty&#x27;: [&#x27;l1&#x27;, &#x27;l2&#x27;, &#x27;elasticnet&#x27;],\n",
              "                         &#x27;solver&#x27;: [&#x27;liblinear&#x27;, &#x27;saga&#x27;]},\n",
              "             scoring=&#x27;roc_auc&#x27;, verbose=1)</pre><b>In a Jupyter environment, please rerun this cell to show the HTML representation or trust the notebook. <br />On GitHub, the HTML representation is unable to render, please try loading this page with nbviewer.org.</b></div><div class=\"sk-container\" hidden><div class=\"sk-item sk-dashed-wrapped\"><div class=\"sk-label-container\"><div class=\"sk-label fitted sk-toggleable\"><input class=\"sk-toggleable__control sk-hidden--visually\" id=\"sk-estimator-id-1\" type=\"checkbox\" ><label for=\"sk-estimator-id-1\" class=\"sk-toggleable__label fitted sk-toggleable__label-arrow fitted\">&nbsp;&nbsp;GridSearchCV<a class=\"sk-estimator-doc-link fitted\" rel=\"noreferrer\" target=\"_blank\" href=\"https://scikit-learn.org/1.5/modules/generated/sklearn.model_selection.GridSearchCV.html\">?<span>Documentation for GridSearchCV</span></a><span class=\"sk-estimator-doc-link fitted\">i<span>Fitted</span></span></label><div class=\"sk-toggleable__content fitted\"><pre>GridSearchCV(cv=StratifiedKFold(n_splits=3, random_state=10, shuffle=True),\n",
              "             estimator=LogisticRegression(class_weight=&#x27;balanced&#x27;,\n",
              "                                          max_iter=1000, random_state=10),\n",
              "             n_jobs=-1,\n",
              "             param_grid={&#x27;C&#x27;: [0.01, 0.1, 1], &#x27;l1_ratio&#x27;: [0.0, 0.5, 1.0],\n",
              "                         &#x27;penalty&#x27;: [&#x27;l1&#x27;, &#x27;l2&#x27;, &#x27;elasticnet&#x27;],\n",
              "                         &#x27;solver&#x27;: [&#x27;liblinear&#x27;, &#x27;saga&#x27;]},\n",
              "             scoring=&#x27;roc_auc&#x27;, verbose=1)</pre></div> </div></div><div class=\"sk-parallel\"><div class=\"sk-parallel-item\"><div class=\"sk-item\"><div class=\"sk-label-container\"><div class=\"sk-label fitted sk-toggleable\"><input class=\"sk-toggleable__control sk-hidden--visually\" id=\"sk-estimator-id-2\" type=\"checkbox\" ><label for=\"sk-estimator-id-2\" class=\"sk-toggleable__label fitted sk-toggleable__label-arrow fitted\">best_estimator_: LogisticRegression</label><div class=\"sk-toggleable__content fitted\"><pre>LogisticRegression(C=0.01, class_weight=&#x27;balanced&#x27;, l1_ratio=0.5, max_iter=1000,\n",
              "                   penalty=&#x27;elasticnet&#x27;, random_state=10, solver=&#x27;saga&#x27;)</pre></div> </div></div><div class=\"sk-serial\"><div class=\"sk-item\"><div class=\"sk-estimator fitted sk-toggleable\"><input class=\"sk-toggleable__control sk-hidden--visually\" id=\"sk-estimator-id-3\" type=\"checkbox\" ><label for=\"sk-estimator-id-3\" class=\"sk-toggleable__label fitted sk-toggleable__label-arrow fitted\">&nbsp;LogisticRegression<a class=\"sk-estimator-doc-link fitted\" rel=\"noreferrer\" target=\"_blank\" href=\"https://scikit-learn.org/1.5/modules/generated/sklearn.linear_model.LogisticRegression.html\">?<span>Documentation for LogisticRegression</span></a></label><div class=\"sk-toggleable__content fitted\"><pre>LogisticRegression(C=0.01, class_weight=&#x27;balanced&#x27;, l1_ratio=0.5, max_iter=1000,\n",
              "                   penalty=&#x27;elasticnet&#x27;, random_state=10, solver=&#x27;saga&#x27;)</pre></div> </div></div></div></div></div></div></div></div></div>"
            ],
            "text/plain": [
              "GridSearchCV(cv=StratifiedKFold(n_splits=3, random_state=10, shuffle=True),\n",
              "             estimator=LogisticRegression(class_weight='balanced',\n",
              "                                          max_iter=1000, random_state=10),\n",
              "             n_jobs=-1,\n",
              "             param_grid={'C': [0.01, 0.1, 1], 'l1_ratio': [0.0, 0.5, 1.0],\n",
              "                         'penalty': ['l1', 'l2', 'elasticnet'],\n",
              "                         'solver': ['liblinear', 'saga']},\n",
              "             scoring='roc_auc', verbose=1)"
            ]
          },
          "execution_count": 40,
          "metadata": {},
          "output_type": "execute_result"
        }
      ],
      "source": [
        "# ваш код\n",
        "cv = StratifiedKFold(n_splits=3, shuffle=True, random_state=RAND)\n",
        "param_grid = {\n",
        "    'penalty': ['l1', 'l2', 'elasticnet'],\n",
        "    'C': [0.01, 0.1, 1],\n",
        "    'solver': ['liblinear', 'saga'],\n",
        "    'l1_ratio': [0.0, 0.5, 1.0]\n",
        "}\n",
        "model = LogisticRegression(class_weight='balanced', random_state=RAND, max_iter=1000)\n",
        "grid_search = GridSearchCV(\n",
        "    estimator=model,\n",
        "    param_grid=param_grid,\n",
        "    scoring='roc_auc',\n",
        "    cv=cv,\n",
        "    n_jobs=-1,\n",
        "    verbose=1\n",
        ")\n",
        "grid_search.fit(X_train_scaled, y_train)"
      ]
    },
    {
      "cell_type": "markdown",
      "metadata": {
        "id": "_HwFPqo_Axlg"
      },
      "source": [
        "37) Выведите наилучшие значения метрик и параметры после обучения GridSearchCV"
      ]
    },
    {
      "cell_type": "code",
      "execution_count": null,
      "metadata": {
        "id": "8c7rppY9Axlh",
        "outputId": "d546c978-823a-4fe0-fab4-ce1172bb2d18"
      },
      "outputs": [
        {
          "name": "stdout",
          "output_type": "stream",
          "text": [
            "Лучшие параметры: {'C': 0.01, 'l1_ratio': 0.5, 'penalty': 'elasticnet', 'solver': 'saga'}\n",
            "Лучший ROC-AUC: 0.7957399688532792\n"
          ]
        }
      ],
      "source": [
        "# ваш код\n",
        "print(\"Лучшие параметры:\", grid_search.best_params_)\n",
        "print(\"Лучший ROC-AUC:\", grid_search.best_score_)"
      ]
    },
    {
      "cell_type": "markdown",
      "metadata": {
        "id": "9UqBgHC8Axli"
      },
      "source": [
        "38) Найдите параметры для LogisticRegression, используя StratifiedKFold с 3 фолдами, при помощи **RandomizedSearchCV**\n",
        "\n",
        "- Метрика для оптимизации scoring = 'roc_auc'\n",
        "\n",
        "- Нужно использовать такие параметры как: penalty, C, solver, l1_ratio\n",
        "\n",
        "- Не забудьте для StratifiedKFold зафиксировать random_state и class_weight"
      ]
    },
    {
      "cell_type": "code",
      "execution_count": null,
      "metadata": {
        "id": "NA2NXsACAxlj",
        "outputId": "2e9cf160-d88e-43a2-9b1e-5cb60756efd1"
      },
      "outputs": [
        {
          "name": "stdout",
          "output_type": "stream",
          "text": [
            "Fitting 3 folds for each of 10 candidates, totalling 30 fits\n"
          ]
        },
        {
          "data": {
            "text/html": [
              "<style>#sk-container-id-2 {\n",
              "  /* Definition of color scheme common for light and dark mode */\n",
              "  --sklearn-color-text: black;\n",
              "  --sklearn-color-line: gray;\n",
              "  /* Definition of color scheme for unfitted estimators */\n",
              "  --sklearn-color-unfitted-level-0: #fff5e6;\n",
              "  --sklearn-color-unfitted-level-1: #f6e4d2;\n",
              "  --sklearn-color-unfitted-level-2: #ffe0b3;\n",
              "  --sklearn-color-unfitted-level-3: chocolate;\n",
              "  /* Definition of color scheme for fitted estimators */\n",
              "  --sklearn-color-fitted-level-0: #f0f8ff;\n",
              "  --sklearn-color-fitted-level-1: #d4ebff;\n",
              "  --sklearn-color-fitted-level-2: #b3dbfd;\n",
              "  --sklearn-color-fitted-level-3: cornflowerblue;\n",
              "\n",
              "  /* Specific color for light theme */\n",
              "  --sklearn-color-text-on-default-background: var(--sg-text-color, var(--theme-code-foreground, var(--jp-content-font-color1, black)));\n",
              "  --sklearn-color-background: var(--sg-background-color, var(--theme-background, var(--jp-layout-color0, white)));\n",
              "  --sklearn-color-border-box: var(--sg-text-color, var(--theme-code-foreground, var(--jp-content-font-color1, black)));\n",
              "  --sklearn-color-icon: #696969;\n",
              "\n",
              "  @media (prefers-color-scheme: dark) {\n",
              "    /* Redefinition of color scheme for dark theme */\n",
              "    --sklearn-color-text-on-default-background: var(--sg-text-color, var(--theme-code-foreground, var(--jp-content-font-color1, white)));\n",
              "    --sklearn-color-background: var(--sg-background-color, var(--theme-background, var(--jp-layout-color0, #111)));\n",
              "    --sklearn-color-border-box: var(--sg-text-color, var(--theme-code-foreground, var(--jp-content-font-color1, white)));\n",
              "    --sklearn-color-icon: #878787;\n",
              "  }\n",
              "}\n",
              "\n",
              "#sk-container-id-2 {\n",
              "  color: var(--sklearn-color-text);\n",
              "}\n",
              "\n",
              "#sk-container-id-2 pre {\n",
              "  padding: 0;\n",
              "}\n",
              "\n",
              "#sk-container-id-2 input.sk-hidden--visually {\n",
              "  border: 0;\n",
              "  clip: rect(1px 1px 1px 1px);\n",
              "  clip: rect(1px, 1px, 1px, 1px);\n",
              "  height: 1px;\n",
              "  margin: -1px;\n",
              "  overflow: hidden;\n",
              "  padding: 0;\n",
              "  position: absolute;\n",
              "  width: 1px;\n",
              "}\n",
              "\n",
              "#sk-container-id-2 div.sk-dashed-wrapped {\n",
              "  border: 1px dashed var(--sklearn-color-line);\n",
              "  margin: 0 0.4em 0.5em 0.4em;\n",
              "  box-sizing: border-box;\n",
              "  padding-bottom: 0.4em;\n",
              "  background-color: var(--sklearn-color-background);\n",
              "}\n",
              "\n",
              "#sk-container-id-2 div.sk-container {\n",
              "  /* jupyter's `normalize.less` sets `[hidden] { display: none; }`\n",
              "     but bootstrap.min.css set `[hidden] { display: none !important; }`\n",
              "     so we also need the `!important` here to be able to override the\n",
              "     default hidden behavior on the sphinx rendered scikit-learn.org.\n",
              "     See: https://github.com/scikit-learn/scikit-learn/issues/21755 */\n",
              "  display: inline-block !important;\n",
              "  position: relative;\n",
              "}\n",
              "\n",
              "#sk-container-id-2 div.sk-text-repr-fallback {\n",
              "  display: none;\n",
              "}\n",
              "\n",
              "div.sk-parallel-item,\n",
              "div.sk-serial,\n",
              "div.sk-item {\n",
              "  /* draw centered vertical line to link estimators */\n",
              "  background-image: linear-gradient(var(--sklearn-color-text-on-default-background), var(--sklearn-color-text-on-default-background));\n",
              "  background-size: 2px 100%;\n",
              "  background-repeat: no-repeat;\n",
              "  background-position: center center;\n",
              "}\n",
              "\n",
              "/* Parallel-specific style estimator block */\n",
              "\n",
              "#sk-container-id-2 div.sk-parallel-item::after {\n",
              "  content: \"\";\n",
              "  width: 100%;\n",
              "  border-bottom: 2px solid var(--sklearn-color-text-on-default-background);\n",
              "  flex-grow: 1;\n",
              "}\n",
              "\n",
              "#sk-container-id-2 div.sk-parallel {\n",
              "  display: flex;\n",
              "  align-items: stretch;\n",
              "  justify-content: center;\n",
              "  background-color: var(--sklearn-color-background);\n",
              "  position: relative;\n",
              "}\n",
              "\n",
              "#sk-container-id-2 div.sk-parallel-item {\n",
              "  display: flex;\n",
              "  flex-direction: column;\n",
              "}\n",
              "\n",
              "#sk-container-id-2 div.sk-parallel-item:first-child::after {\n",
              "  align-self: flex-end;\n",
              "  width: 50%;\n",
              "}\n",
              "\n",
              "#sk-container-id-2 div.sk-parallel-item:last-child::after {\n",
              "  align-self: flex-start;\n",
              "  width: 50%;\n",
              "}\n",
              "\n",
              "#sk-container-id-2 div.sk-parallel-item:only-child::after {\n",
              "  width: 0;\n",
              "}\n",
              "\n",
              "/* Serial-specific style estimator block */\n",
              "\n",
              "#sk-container-id-2 div.sk-serial {\n",
              "  display: flex;\n",
              "  flex-direction: column;\n",
              "  align-items: center;\n",
              "  background-color: var(--sklearn-color-background);\n",
              "  padding-right: 1em;\n",
              "  padding-left: 1em;\n",
              "}\n",
              "\n",
              "\n",
              "/* Toggleable style: style used for estimator/Pipeline/ColumnTransformer box that is\n",
              "clickable and can be expanded/collapsed.\n",
              "- Pipeline and ColumnTransformer use this feature and define the default style\n",
              "- Estimators will overwrite some part of the style using the `sk-estimator` class\n",
              "*/\n",
              "\n",
              "/* Pipeline and ColumnTransformer style (default) */\n",
              "\n",
              "#sk-container-id-2 div.sk-toggleable {\n",
              "  /* Default theme specific background. It is overwritten whether we have a\n",
              "  specific estimator or a Pipeline/ColumnTransformer */\n",
              "  background-color: var(--sklearn-color-background);\n",
              "}\n",
              "\n",
              "/* Toggleable label */\n",
              "#sk-container-id-2 label.sk-toggleable__label {\n",
              "  cursor: pointer;\n",
              "  display: block;\n",
              "  width: 100%;\n",
              "  margin-bottom: 0;\n",
              "  padding: 0.5em;\n",
              "  box-sizing: border-box;\n",
              "  text-align: center;\n",
              "}\n",
              "\n",
              "#sk-container-id-2 label.sk-toggleable__label-arrow:before {\n",
              "  /* Arrow on the left of the label */\n",
              "  content: \"▸\";\n",
              "  float: left;\n",
              "  margin-right: 0.25em;\n",
              "  color: var(--sklearn-color-icon);\n",
              "}\n",
              "\n",
              "#sk-container-id-2 label.sk-toggleable__label-arrow:hover:before {\n",
              "  color: var(--sklearn-color-text);\n",
              "}\n",
              "\n",
              "/* Toggleable content - dropdown */\n",
              "\n",
              "#sk-container-id-2 div.sk-toggleable__content {\n",
              "  max-height: 0;\n",
              "  max-width: 0;\n",
              "  overflow: hidden;\n",
              "  text-align: left;\n",
              "  /* unfitted */\n",
              "  background-color: var(--sklearn-color-unfitted-level-0);\n",
              "}\n",
              "\n",
              "#sk-container-id-2 div.sk-toggleable__content.fitted {\n",
              "  /* fitted */\n",
              "  background-color: var(--sklearn-color-fitted-level-0);\n",
              "}\n",
              "\n",
              "#sk-container-id-2 div.sk-toggleable__content pre {\n",
              "  margin: 0.2em;\n",
              "  border-radius: 0.25em;\n",
              "  color: var(--sklearn-color-text);\n",
              "  /* unfitted */\n",
              "  background-color: var(--sklearn-color-unfitted-level-0);\n",
              "}\n",
              "\n",
              "#sk-container-id-2 div.sk-toggleable__content.fitted pre {\n",
              "  /* unfitted */\n",
              "  background-color: var(--sklearn-color-fitted-level-0);\n",
              "}\n",
              "\n",
              "#sk-container-id-2 input.sk-toggleable__control:checked~div.sk-toggleable__content {\n",
              "  /* Expand drop-down */\n",
              "  max-height: 200px;\n",
              "  max-width: 100%;\n",
              "  overflow: auto;\n",
              "}\n",
              "\n",
              "#sk-container-id-2 input.sk-toggleable__control:checked~label.sk-toggleable__label-arrow:before {\n",
              "  content: \"▾\";\n",
              "}\n",
              "\n",
              "/* Pipeline/ColumnTransformer-specific style */\n",
              "\n",
              "#sk-container-id-2 div.sk-label input.sk-toggleable__control:checked~label.sk-toggleable__label {\n",
              "  color: var(--sklearn-color-text);\n",
              "  background-color: var(--sklearn-color-unfitted-level-2);\n",
              "}\n",
              "\n",
              "#sk-container-id-2 div.sk-label.fitted input.sk-toggleable__control:checked~label.sk-toggleable__label {\n",
              "  background-color: var(--sklearn-color-fitted-level-2);\n",
              "}\n",
              "\n",
              "/* Estimator-specific style */\n",
              "\n",
              "/* Colorize estimator box */\n",
              "#sk-container-id-2 div.sk-estimator input.sk-toggleable__control:checked~label.sk-toggleable__label {\n",
              "  /* unfitted */\n",
              "  background-color: var(--sklearn-color-unfitted-level-2);\n",
              "}\n",
              "\n",
              "#sk-container-id-2 div.sk-estimator.fitted input.sk-toggleable__control:checked~label.sk-toggleable__label {\n",
              "  /* fitted */\n",
              "  background-color: var(--sklearn-color-fitted-level-2);\n",
              "}\n",
              "\n",
              "#sk-container-id-2 div.sk-label label.sk-toggleable__label,\n",
              "#sk-container-id-2 div.sk-label label {\n",
              "  /* The background is the default theme color */\n",
              "  color: var(--sklearn-color-text-on-default-background);\n",
              "}\n",
              "\n",
              "/* On hover, darken the color of the background */\n",
              "#sk-container-id-2 div.sk-label:hover label.sk-toggleable__label {\n",
              "  color: var(--sklearn-color-text);\n",
              "  background-color: var(--sklearn-color-unfitted-level-2);\n",
              "}\n",
              "\n",
              "/* Label box, darken color on hover, fitted */\n",
              "#sk-container-id-2 div.sk-label.fitted:hover label.sk-toggleable__label.fitted {\n",
              "  color: var(--sklearn-color-text);\n",
              "  background-color: var(--sklearn-color-fitted-level-2);\n",
              "}\n",
              "\n",
              "/* Estimator label */\n",
              "\n",
              "#sk-container-id-2 div.sk-label label {\n",
              "  font-family: monospace;\n",
              "  font-weight: bold;\n",
              "  display: inline-block;\n",
              "  line-height: 1.2em;\n",
              "}\n",
              "\n",
              "#sk-container-id-2 div.sk-label-container {\n",
              "  text-align: center;\n",
              "}\n",
              "\n",
              "/* Estimator-specific */\n",
              "#sk-container-id-2 div.sk-estimator {\n",
              "  font-family: monospace;\n",
              "  border: 1px dotted var(--sklearn-color-border-box);\n",
              "  border-radius: 0.25em;\n",
              "  box-sizing: border-box;\n",
              "  margin-bottom: 0.5em;\n",
              "  /* unfitted */\n",
              "  background-color: var(--sklearn-color-unfitted-level-0);\n",
              "}\n",
              "\n",
              "#sk-container-id-2 div.sk-estimator.fitted {\n",
              "  /* fitted */\n",
              "  background-color: var(--sklearn-color-fitted-level-0);\n",
              "}\n",
              "\n",
              "/* on hover */\n",
              "#sk-container-id-2 div.sk-estimator:hover {\n",
              "  /* unfitted */\n",
              "  background-color: var(--sklearn-color-unfitted-level-2);\n",
              "}\n",
              "\n",
              "#sk-container-id-2 div.sk-estimator.fitted:hover {\n",
              "  /* fitted */\n",
              "  background-color: var(--sklearn-color-fitted-level-2);\n",
              "}\n",
              "\n",
              "/* Specification for estimator info (e.g. \"i\" and \"?\") */\n",
              "\n",
              "/* Common style for \"i\" and \"?\" */\n",
              "\n",
              ".sk-estimator-doc-link,\n",
              "a:link.sk-estimator-doc-link,\n",
              "a:visited.sk-estimator-doc-link {\n",
              "  float: right;\n",
              "  font-size: smaller;\n",
              "  line-height: 1em;\n",
              "  font-family: monospace;\n",
              "  background-color: var(--sklearn-color-background);\n",
              "  border-radius: 1em;\n",
              "  height: 1em;\n",
              "  width: 1em;\n",
              "  text-decoration: none !important;\n",
              "  margin-left: 1ex;\n",
              "  /* unfitted */\n",
              "  border: var(--sklearn-color-unfitted-level-1) 1pt solid;\n",
              "  color: var(--sklearn-color-unfitted-level-1);\n",
              "}\n",
              "\n",
              ".sk-estimator-doc-link.fitted,\n",
              "a:link.sk-estimator-doc-link.fitted,\n",
              "a:visited.sk-estimator-doc-link.fitted {\n",
              "  /* fitted */\n",
              "  border: var(--sklearn-color-fitted-level-1) 1pt solid;\n",
              "  color: var(--sklearn-color-fitted-level-1);\n",
              "}\n",
              "\n",
              "/* On hover */\n",
              "div.sk-estimator:hover .sk-estimator-doc-link:hover,\n",
              ".sk-estimator-doc-link:hover,\n",
              "div.sk-label-container:hover .sk-estimator-doc-link:hover,\n",
              ".sk-estimator-doc-link:hover {\n",
              "  /* unfitted */\n",
              "  background-color: var(--sklearn-color-unfitted-level-3);\n",
              "  color: var(--sklearn-color-background);\n",
              "  text-decoration: none;\n",
              "}\n",
              "\n",
              "div.sk-estimator.fitted:hover .sk-estimator-doc-link.fitted:hover,\n",
              ".sk-estimator-doc-link.fitted:hover,\n",
              "div.sk-label-container:hover .sk-estimator-doc-link.fitted:hover,\n",
              ".sk-estimator-doc-link.fitted:hover {\n",
              "  /* fitted */\n",
              "  background-color: var(--sklearn-color-fitted-level-3);\n",
              "  color: var(--sklearn-color-background);\n",
              "  text-decoration: none;\n",
              "}\n",
              "\n",
              "/* Span, style for the box shown on hovering the info icon */\n",
              ".sk-estimator-doc-link span {\n",
              "  display: none;\n",
              "  z-index: 9999;\n",
              "  position: relative;\n",
              "  font-weight: normal;\n",
              "  right: .2ex;\n",
              "  padding: .5ex;\n",
              "  margin: .5ex;\n",
              "  width: min-content;\n",
              "  min-width: 20ex;\n",
              "  max-width: 50ex;\n",
              "  color: var(--sklearn-color-text);\n",
              "  box-shadow: 2pt 2pt 4pt #999;\n",
              "  /* unfitted */\n",
              "  background: var(--sklearn-color-unfitted-level-0);\n",
              "  border: .5pt solid var(--sklearn-color-unfitted-level-3);\n",
              "}\n",
              "\n",
              ".sk-estimator-doc-link.fitted span {\n",
              "  /* fitted */\n",
              "  background: var(--sklearn-color-fitted-level-0);\n",
              "  border: var(--sklearn-color-fitted-level-3);\n",
              "}\n",
              "\n",
              ".sk-estimator-doc-link:hover span {\n",
              "  display: block;\n",
              "}\n",
              "\n",
              "/* \"?\"-specific style due to the `<a>` HTML tag */\n",
              "\n",
              "#sk-container-id-2 a.estimator_doc_link {\n",
              "  float: right;\n",
              "  font-size: 1rem;\n",
              "  line-height: 1em;\n",
              "  font-family: monospace;\n",
              "  background-color: var(--sklearn-color-background);\n",
              "  border-radius: 1rem;\n",
              "  height: 1rem;\n",
              "  width: 1rem;\n",
              "  text-decoration: none;\n",
              "  /* unfitted */\n",
              "  color: var(--sklearn-color-unfitted-level-1);\n",
              "  border: var(--sklearn-color-unfitted-level-1) 1pt solid;\n",
              "}\n",
              "\n",
              "#sk-container-id-2 a.estimator_doc_link.fitted {\n",
              "  /* fitted */\n",
              "  border: var(--sklearn-color-fitted-level-1) 1pt solid;\n",
              "  color: var(--sklearn-color-fitted-level-1);\n",
              "}\n",
              "\n",
              "/* On hover */\n",
              "#sk-container-id-2 a.estimator_doc_link:hover {\n",
              "  /* unfitted */\n",
              "  background-color: var(--sklearn-color-unfitted-level-3);\n",
              "  color: var(--sklearn-color-background);\n",
              "  text-decoration: none;\n",
              "}\n",
              "\n",
              "#sk-container-id-2 a.estimator_doc_link.fitted:hover {\n",
              "  /* fitted */\n",
              "  background-color: var(--sklearn-color-fitted-level-3);\n",
              "}\n",
              "</style><div id=\"sk-container-id-2\" class=\"sk-top-container\"><div class=\"sk-text-repr-fallback\"><pre>RandomizedSearchCV(cv=StratifiedKFold(n_splits=3, random_state=10, shuffle=True),\n",
              "                   estimator=LogisticRegression(class_weight=&#x27;balanced&#x27;,\n",
              "                                                max_iter=1000,\n",
              "                                                random_state=10),\n",
              "                   n_jobs=-1,\n",
              "                   param_distributions={&#x27;C&#x27;: [0.01, 0.1, 1],\n",
              "                                        &#x27;l1_ratio&#x27;: [0.1, 0.5, 1.0],\n",
              "                                        &#x27;penalty&#x27;: [&#x27;l1&#x27;, &#x27;l2&#x27;, &#x27;elasticnet&#x27;],\n",
              "                                        &#x27;solver&#x27;: [&#x27;liblinear&#x27;, &#x27;saga&#x27;]},\n",
              "                   scoring=&#x27;roc_auc&#x27;, verbose=1)</pre><b>In a Jupyter environment, please rerun this cell to show the HTML representation or trust the notebook. <br />On GitHub, the HTML representation is unable to render, please try loading this page with nbviewer.org.</b></div><div class=\"sk-container\" hidden><div class=\"sk-item sk-dashed-wrapped\"><div class=\"sk-label-container\"><div class=\"sk-label fitted sk-toggleable\"><input class=\"sk-toggleable__control sk-hidden--visually\" id=\"sk-estimator-id-4\" type=\"checkbox\" ><label for=\"sk-estimator-id-4\" class=\"sk-toggleable__label fitted sk-toggleable__label-arrow fitted\">&nbsp;&nbsp;RandomizedSearchCV<a class=\"sk-estimator-doc-link fitted\" rel=\"noreferrer\" target=\"_blank\" href=\"https://scikit-learn.org/1.5/modules/generated/sklearn.model_selection.RandomizedSearchCV.html\">?<span>Documentation for RandomizedSearchCV</span></a><span class=\"sk-estimator-doc-link fitted\">i<span>Fitted</span></span></label><div class=\"sk-toggleable__content fitted\"><pre>RandomizedSearchCV(cv=StratifiedKFold(n_splits=3, random_state=10, shuffle=True),\n",
              "                   estimator=LogisticRegression(class_weight=&#x27;balanced&#x27;,\n",
              "                                                max_iter=1000,\n",
              "                                                random_state=10),\n",
              "                   n_jobs=-1,\n",
              "                   param_distributions={&#x27;C&#x27;: [0.01, 0.1, 1],\n",
              "                                        &#x27;l1_ratio&#x27;: [0.1, 0.5, 1.0],\n",
              "                                        &#x27;penalty&#x27;: [&#x27;l1&#x27;, &#x27;l2&#x27;, &#x27;elasticnet&#x27;],\n",
              "                                        &#x27;solver&#x27;: [&#x27;liblinear&#x27;, &#x27;saga&#x27;]},\n",
              "                   scoring=&#x27;roc_auc&#x27;, verbose=1)</pre></div> </div></div><div class=\"sk-parallel\"><div class=\"sk-parallel-item\"><div class=\"sk-item\"><div class=\"sk-label-container\"><div class=\"sk-label fitted sk-toggleable\"><input class=\"sk-toggleable__control sk-hidden--visually\" id=\"sk-estimator-id-5\" type=\"checkbox\" ><label for=\"sk-estimator-id-5\" class=\"sk-toggleable__label fitted sk-toggleable__label-arrow fitted\">best_estimator_: LogisticRegression</label><div class=\"sk-toggleable__content fitted\"><pre>LogisticRegression(C=0.01, class_weight=&#x27;balanced&#x27;, l1_ratio=0.5, max_iter=1000,\n",
              "                   penalty=&#x27;l1&#x27;, random_state=10, solver=&#x27;liblinear&#x27;)</pre></div> </div></div><div class=\"sk-serial\"><div class=\"sk-item\"><div class=\"sk-estimator fitted sk-toggleable\"><input class=\"sk-toggleable__control sk-hidden--visually\" id=\"sk-estimator-id-6\" type=\"checkbox\" ><label for=\"sk-estimator-id-6\" class=\"sk-toggleable__label fitted sk-toggleable__label-arrow fitted\">&nbsp;LogisticRegression<a class=\"sk-estimator-doc-link fitted\" rel=\"noreferrer\" target=\"_blank\" href=\"https://scikit-learn.org/1.5/modules/generated/sklearn.linear_model.LogisticRegression.html\">?<span>Documentation for LogisticRegression</span></a></label><div class=\"sk-toggleable__content fitted\"><pre>LogisticRegression(C=0.01, class_weight=&#x27;balanced&#x27;, l1_ratio=0.5, max_iter=1000,\n",
              "                   penalty=&#x27;l1&#x27;, random_state=10, solver=&#x27;liblinear&#x27;)</pre></div> </div></div></div></div></div></div></div></div></div>"
            ],
            "text/plain": [
              "RandomizedSearchCV(cv=StratifiedKFold(n_splits=3, random_state=10, shuffle=True),\n",
              "                   estimator=LogisticRegression(class_weight='balanced',\n",
              "                                                max_iter=1000,\n",
              "                                                random_state=10),\n",
              "                   n_jobs=-1,\n",
              "                   param_distributions={'C': [0.01, 0.1, 1],\n",
              "                                        'l1_ratio': [0.1, 0.5, 1.0],\n",
              "                                        'penalty': ['l1', 'l2', 'elasticnet'],\n",
              "                                        'solver': ['liblinear', 'saga']},\n",
              "                   scoring='roc_auc', verbose=1)"
            ]
          },
          "execution_count": 42,
          "metadata": {},
          "output_type": "execute_result"
        }
      ],
      "source": [
        "# ваш код\n",
        "cv = StratifiedKFold(n_splits=3, shuffle=True, random_state=RAND)\n",
        "param_dis = {\n",
        "    'penalty': ['l1', 'l2', 'elasticnet'],\n",
        "    'C': [0.01, 0.1, 1],\n",
        "    'solver': ['liblinear', 'saga'],\n",
        "    'l1_ratio': [0.1, 0.5, 1.0]\n",
        "}\n",
        "model = LogisticRegression(class_weight='balanced', random_state=RAND, max_iter=1000)\n",
        "random_search = RandomizedSearchCV(\n",
        "    estimator=model,\n",
        "    param_distributions=param_dis,\n",
        "    scoring='roc_auc',\n",
        "    cv=cv,\n",
        "    n_jobs=-1,\n",
        "    verbose=1\n",
        ")\n",
        "random_search.fit(X_train_scaled, y_train)"
      ]
    },
    {
      "cell_type": "markdown",
      "metadata": {
        "id": "OeS-qy1cAxlj"
      },
      "source": [
        "39) Выведите наилучшие значения метрик и параметры после обучения RandomizedSearchCV"
      ]
    },
    {
      "cell_type": "code",
      "execution_count": null,
      "metadata": {
        "id": "6J5wQh0TAxlk",
        "outputId": "67049a11-bf2d-4310-fe64-f776c65486f8"
      },
      "outputs": [
        {
          "name": "stdout",
          "output_type": "stream",
          "text": [
            "Лучшие параметры: {'solver': 'liblinear', 'penalty': 'l1', 'l1_ratio': 0.5, 'C': 0.01}\n",
            "Лучший ROC-AUC: 0.7937251697533712\n"
          ]
        }
      ],
      "source": [
        "# ваш код\n",
        "print(\"Лучшие параметры:\", random_search.best_params_)\n",
        "print(\"Лучший ROC-AUC:\", random_search.best_score_)"
      ]
    },
    {
      "cell_type": "markdown",
      "metadata": {
        "id": "JdNMfilrAxll"
      },
      "source": [
        "## Holdout"
      ]
    },
    {
      "cell_type": "markdown",
      "metadata": {
        "id": "OJH6jZEhAxll"
      },
      "source": [
        "40) Обучение на фолдах на лучших параметрах\n",
        "\n",
        "- Далее используйте кросс-валидацию со стратификацией **StratifiedKFold с 3мя фолдами** как делали ранее\n",
        "- Не забудьте для StratifiedKFold зафиксировать **random_state**\n",
        "- Подайте на вход модели LogisticRegression() **наилучшие параметры**, полученные путем поиска по сетке (выбрать между параметрами GridSearchCV и RandomizedSearchCV по значениям метрик - атрибут *.best_score_)\n",
        "- В качестве метрики возьмите **ROC_AUC**\n",
        "- Не забывайте использовать стандартизованные данные\n",
        "- На каждом фолде подсчитать значение **ROC-AUC на validation** данных и **вывести**\n",
        "- Выведите по итогу **среднее значение ROC-AUC** полученное на всех фолдах"
      ]
    },
    {
      "cell_type": "code",
      "execution_count": null,
      "metadata": {
        "id": "6EnLdanrAxlm",
        "outputId": "a6cc7b79-c8ef-4589-c78f-57f113787b66"
      },
      "outputs": [
        {
          "name": "stdout",
          "output_type": "stream",
          "text": [
            "Используем параметры из GridSearchCV: {'C': 0.01, 'l1_ratio': 0.5, 'penalty': 'elasticnet', 'solver': 'saga'}\n",
            "ROC-AUC на текущем фолде: 0.7793\n",
            "ROC-AUC на текущем фолде: 0.7838\n",
            "ROC-AUC на текущем фолде: 0.7836\n",
            "Среднее значение ROC-AUC на всех фолдах: 0.7822\n"
          ]
        }
      ],
      "source": [
        "# ваш код\n",
        "X = np.array(X)\n",
        "y = np.array(y)\n",
        "best_score_gs = grid_search.best_score_\n",
        "best_score_rs = random_search.best_score_\n",
        "if best_score_gs > best_score_rs:\n",
        "    best_params = grid_search.best_params_\n",
        "    print(\"Используем параметры из GridSearchCV:\", best_params)\n",
        "else:\n",
        "    best_params = random_search.best_params_\n",
        "    print(\"Используем параметры из RandomizedSearchCV:\", best_params)\n",
        "\n",
        "best_model = LogisticRegression(\n",
        "    class_weight='balanced',\n",
        "    random_state=RAND,\n",
        "    max_iter=1000,\n",
        "    **best_params\n",
        ")\n",
        "cv = StratifiedKFold(n_splits=3, shuffle=True, random_state=RAND)\n",
        "\n",
        "roc_auc_scores = []\n",
        "\n",
        "for train_idx, val_idx in cv.split(X, y):\n",
        "    X_train, X_val = X[train_idx], X[val_idx]\n",
        "    y_train, y_val = y[train_idx], y[val_idx]\n",
        "\n",
        "    best_model.fit(X_train, y_train)\n",
        "\n",
        "    y_pred_proba = best_model.predict_proba(X_val)\n",
        "\n",
        "    roc_auc = roc_auc_score(y_val, y_pred_proba[:, 1])\n",
        "    roc_auc_scores.append(roc_auc)\n",
        "    print(f\"ROC-AUC на текущем фолде: {roc_auc:.4f}\")\n",
        "\n",
        "mean_roc_auc = np.mean(roc_auc_scores)\n",
        "print(f\"Среднее значение ROC-AUC на всех фолдах: {mean_roc_auc:.4f}\")"
      ]
    },
    {
      "cell_type": "markdown",
      "metadata": {
        "id": "Uhsahc9TAxln"
      },
      "source": [
        "41) Получите **предсказанные значения на Holdout** данных при помощи усреднения значений (для вероятностй) и моды (для меток классов), полученных при обучении на фолдах\n",
        "\n",
        "**Сравните** результат ROC-AUC на validation (OOF) и на test данных (Holdout)\n",
        "\n",
        "\n",
        "Подсказка:\n",
        "- для получения средних значений на Holdout используйте np.mean(np.column_stack(****), axis=1)\n",
        "- для получения моды на Holdout используйте stats.mode(np.column_stack(****), axis=1)[0]"
      ]
    },
    {
      "cell_type": "code",
      "execution_count": null,
      "metadata": {
        "id": "ZzPd_zNoAxln",
        "outputId": "4c22c04a-3048-4639-c080-60529a6bfd6c"
      },
      "outputs": [
        {
          "name": "stdout",
          "output_type": "stream",
          "text": [
            "ROC-AUC на тестовых данных: 0.5015\n",
            "Среднее значение ROC-AUC на всех фолдах (OOF): 0.7822\n",
            "Разница между ROC-AUC OOF и тестовыми данными: 0.2807\n"
          ]
        }
      ],
      "source": [
        "# ваш код\n",
        "X_test = np.array(X_test)\n",
        "y_test = np.array(y_test)\n",
        "\n",
        "test_proba_predictions = []\n",
        "test_class_predictions = []\n",
        "\n",
        "for train_idx, val_idx in cv.split(X, y):\n",
        "    X_train, X_val = X[train_idx], X[val_idx]\n",
        "    y_train, y_val = y[train_idx], y[val_idx]\n",
        "\n",
        "    best_model.fit(X_train, y_train)\n",
        "\n",
        "    y_test_proba = best_model.predict_proba(X_test)\n",
        "    test_proba_predictions.append(y_test_proba)\n",
        "\n",
        "    y_test_class = best_model.predict(X_test)\n",
        "    test_class_predictions.append(y_test_class)\n",
        "\n",
        "mean_test_proba = np.mean(np.column_stack(test_proba_predictions), axis=1)\n",
        "mode_test_class = stats.mode(np.column_stack(test_class_predictions), axis=1)[0].flatten()\n",
        "roc_auc_test = roc_auc_score(y_test, mean_test_proba)\n",
        "\n",
        "print(f\"ROC-AUC на тестовых данных: {roc_auc_test:.4f}\")\n",
        "print(f\"Среднее значение ROC-AUC на всех фолдах (OOF): {mean_roc_auc:.4f}\")\n",
        "print(f\"Разница между ROC-AUC OOF и тестовыми данными: {mean_roc_auc - roc_auc_test:.4f}\")\n"
      ]
    },
    {
      "cell_type": "code",
      "execution_count": null,
      "metadata": {
        "id": "drEzDpCDSTxo",
        "outputId": "13449627-e4bc-4ffa-ef60-d5979f7334b8"
      },
      "outputs": [
        {
          "data": {
            "text/plain": [
              "0.5015230723510024"
            ]
          },
          "execution_count": 46,
          "metadata": {},
          "output_type": "execute_result"
        }
      ],
      "source": [
        "roc_auc_score(y_test, np.mean(np.column_stack(test_proba_predictions), axis=1))"
      ]
    },
    {
      "cell_type": "markdown",
      "metadata": {
        "id": "RJSh2ZW9Axlo"
      },
      "source": [
        "42) Добавьте в датасет с метриками **metrics** результаты обучения модели с **StratifiedKFold на Holdout данных**.\n",
        "\n",
        "Где вы получили самые наилучшие результаты?"
      ]
    },
    {
      "cell_type": "code",
      "execution_count": null,
      "metadata": {
        "id": "dZGkaJ9KAxlp",
        "outputId": "c610bd16-3e87-4420-eeff-75a04f2cddcb"
      },
      "outputs": [
        {
          "data": {
            "text/html": [
              "<div>\n",
              "<style scoped>\n",
              "    .dataframe tbody tr th:only-of-type {\n",
              "        vertical-align: middle;\n",
              "    }\n",
              "\n",
              "    .dataframe tbody tr th {\n",
              "        vertical-align: top;\n",
              "    }\n",
              "\n",
              "    .dataframe thead th {\n",
              "        text-align: right;\n",
              "    }\n",
              "</style>\n",
              "<table border=\"1\" class=\"dataframe\">\n",
              "  <thead>\n",
              "    <tr style=\"text-align: right;\">\n",
              "      <th></th>\n",
              "      <th>model</th>\n",
              "      <th>Accuracy</th>\n",
              "      <th>ROC_AUC</th>\n",
              "      <th>Precision</th>\n",
              "      <th>Recall</th>\n",
              "      <th>f1</th>\n",
              "      <th>Logloss</th>\n",
              "    </tr>\n",
              "  </thead>\n",
              "  <tbody>\n",
              "    <tr>\n",
              "      <th>0</th>\n",
              "      <td>Logistic Regression</td>\n",
              "      <td>0.761795</td>\n",
              "      <td>0.789788</td>\n",
              "      <td>0.515488</td>\n",
              "      <td>0.738693</td>\n",
              "      <td>0.607229</td>\n",
              "      <td>0.564514</td>\n",
              "    </tr>\n",
              "    <tr>\n",
              "      <th>0</th>\n",
              "      <td>Holdout</td>\n",
              "      <td>0.738622</td>\n",
              "      <td>0.501523</td>\n",
              "      <td>0.483579</td>\n",
              "      <td>0.715243</td>\n",
              "      <td>0.577027</td>\n",
              "      <td>0.693147</td>\n",
              "    </tr>\n",
              "  </tbody>\n",
              "</table>\n",
              "</div>"
            ],
            "text/plain": [
              "                 model  Accuracy   ROC_AUC  Precision    Recall        f1  \\\n",
              "0  Logistic Regression  0.761795  0.789788   0.515488  0.738693  0.607229   \n",
              "0              Holdout  0.738622  0.501523   0.483579  0.715243  0.577027   \n",
              "\n",
              "    Logloss  \n",
              "0  0.564514  \n",
              "0  0.693147  "
            ]
          },
          "execution_count": 47,
          "metadata": {},
          "output_type": "execute_result"
        }
      ],
      "source": [
        "metrics = pd.concat([metrics, get_metrics(y_test, mode_test_class, mean_test_proba, name='Holdout')])\n",
        "metrics"
      ]
    },
    {
      "cell_type": "markdown",
      "metadata": {
        "id": "gIUAHS4HAxlp"
      },
      "source": [
        "Улучшились ли результаты на Holdout по сравнению c Baseline? **Если нет, попробуйте тщательнее подобрать значения в методах поиска по сетке и снова посмотрите результаты.**"
      ]
    },
    {
      "cell_type": "markdown",
      "metadata": {
        "id": "8JM64J8eSTxp"
      },
      "source": [
        "Нет, побор значений ничего не помянел. Accuracy всегда становился только хуже"
      ]
    }
  ],
  "metadata": {
    "colab": {
      "provenance": [],
      "include_colab_link": true
    },
    "hide_input": false,
    "kernelspec": {
      "display_name": "Python 3",
      "language": "python",
      "name": "python3"
    },
    "language_info": {
      "codemirror_mode": {
        "name": "ipython",
        "version": 3
      },
      "file_extension": ".py",
      "mimetype": "text/x-python",
      "name": "python",
      "nbconvert_exporter": "python",
      "pygments_lexer": "ipython3",
      "version": "3.11.9"
    },
    "toc": {
      "base_numbering": 1,
      "nav_menu": {},
      "number_sections": true,
      "sideBar": true,
      "skip_h1_title": false,
      "title_cell": "Table of Contents",
      "title_sidebar": "Contents",
      "toc_cell": false,
      "toc_position": {
        "height": "calc(100% - 180px)",
        "left": "10px",
        "top": "150px",
        "width": "165px"
      },
      "toc_section_display": true,
      "toc_window_display": true
    }
  },
  "nbformat": 4,
  "nbformat_minor": 0
}